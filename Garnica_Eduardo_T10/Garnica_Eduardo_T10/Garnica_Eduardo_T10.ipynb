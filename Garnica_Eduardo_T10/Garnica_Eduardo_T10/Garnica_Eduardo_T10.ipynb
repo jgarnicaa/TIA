{
 "cells": [
  {
   "cell_type": "code",
   "execution_count": 3,
   "metadata": {
    "scrolled": true
   },
   "outputs": [
    {
     "name": "stdout",
     "output_type": "stream",
     "text": [
      "OpenCV Version : 4.5.5 \n"
     ]
    }
   ],
   "source": [
    "%matplotlib inline\n",
    "import cv2\n",
    "from matplotlib import pyplot as plt\n",
    "from matplotlib.colors import ListedColormap\n",
    "import numpy as np\n",
    "import time as t\n",
    "print (\"OpenCV Version : %s \" % cv2.__version__)\n",
    "\n",
    "from scipy import signal\n",
    "from scipy import misc\n",
    "\n",
    "from sklearn import neighbors, datasets\n"
   ]
  },
  {
   "cell_type": "markdown",
   "metadata": {},
   "source": [
    "<p style=\"font-size:300%; background-color:pink; color:blue; text-align:center;line-height : 80px; margin : 0; padding : 0;\">\n",
    "Tarea 10</p>\n",
    "<p style=\"font-size:240%; background-color:pink; color:red; text-align:center;line-height : 60px; margin : 0; padding : 0;\">\n",
    "Técnicas de Inteligencia Artificial - Visión de Máquina</p1>\n",
    "\n",
    "<p style=\"font-size:200%; text-align:center; line-height : 40px;  margin-top : 0; margin-bottom : 0; \"> <br> Eduardo Garnica Aza</p>\n",
    "<p style=\"font-size:180%; text-align:center; line-height : 30px;  margin-top : 0; margin-bottom : 0; \"> <br><br>INGENIERIA MECATRONICA</p>\n",
    "<p style=\"font-size:180%; text-align:center; line-height : 30px; margin-top : 0; \"> Facultad de Ingeniería</p>\n",
    "<p style=\"font-size:160%; text-align:center; line-height : 30px; margin-top : 0; \"> Universidad Nacional de Colombia Sede Bogotá</p>\n",
    "<br>\n",
    "<img src=\"Escudo_UN.png\",width=100,height=100>\n",
    "<p style=\"font-size:160%; text-align:center; line-height : 30px; margin-top : 0; \"> <br>21 de abril de 2022</p>"
   ]
  },
  {
   "cell_type": "markdown",
   "metadata": {},
   "source": [
    "# valores propios y vectores propios del conjunto de datos."
   ]
  },
  {
   "cell_type": "code",
   "execution_count": 4,
   "metadata": {},
   "outputs": [],
   "source": [
    "from pylab import plot,subplot,axis,stem,show,figure\n",
    "from numpy import mean,cov,double,cumsum,dot,linalg,array\n",
    "\n",
    "#Datos = np.array([ [2.5,2.4], [0.5,0.7], [2.2,2.9], [1.9,2.2], [3.1,3.0], [2.3,2.7],\n",
    "             #[2.0,1.6], [1.0,1.1], [1.5,1.6], [1.1,0.9]])\n",
    "\n",
    "Datos = np.array([ [98,81,38], [103,84,38], [103,86,42], [105,86,42], [109,88,44], [123,95,46],\n",
    "     [134,100,48], [136,102,49], [123,92,50], [133,99,51], [133,102,51] , [133,102,51],\n",
    "     [138,98,51], [138,99,51], [141,105,53], [149,107,55], [153,107,56], [147,108,57], \n",
    "     [155,117,60], [158,115,62], [155,115,63], [159,118,63], [162,124,61], [177,132,67]])\n"
   ]
  },
  {
   "cell_type": "code",
   "execution_count": 5,
   "metadata": {},
   "outputs": [
    {
     "name": "stdout",
     "output_type": "stream",
     "text": [
      "\n",
      "Media\n",
      "[[136.04166667 102.58333333  52.04166667]]\n",
      "\n",
      "EigenVectors\n",
      "[[ 0.81388081  0.4961059   0.30245159]\n",
      " [-0.55489628  0.81802677  0.15140118]\n",
      " [-0.17230248 -0.29105178  0.94106361]]\n",
      "\n",
      "Valores propios\n",
      "678.3656506923961\n",
      "6.769697241098388\n",
      "2.85378250128809\n"
     ]
    }
   ],
   "source": [
    "mean = np.empty((0))\n",
    "mean, eigvector  = cv2.PCACompute(Datos.astype(double), mean)\n",
    "\n",
    "print (\"\\nMedia\")\n",
    "print (mean)\n",
    "print (\"\\nEigenVectors\") # Mostrados en Filas\n",
    "print (eigvector)\n",
    "\n",
    "print (\"\\nValores propios\")\n",
    "MC = np.cov(Datos.transpose())  \n",
    "for i in range (eigvector.shape[0]):\n",
    "    eigenValue = np.dot(np.dot(eigvector[i].transpose(), MC), eigvector[i])/ np.dot(eigvector[i].transpose(), eigvector[i])\n",
    "    print (eigenValue)"
   ]
  },
  {
   "cell_type": "code",
   "execution_count": null,
   "metadata": {},
   "outputs": [],
   "source": []
  },
  {
   "cell_type": "code",
   "execution_count": null,
   "metadata": {},
   "outputs": [],
   "source": []
  }
 ],
 "metadata": {
  "anaconda-cloud": {},
  "kernelspec": {
   "display_name": "Python 3 (ipykernel)",
   "language": "python",
   "name": "python3"
  },
  "language_info": {
   "codemirror_mode": {
    "name": "ipython",
    "version": 3
   },
   "file_extension": ".py",
   "mimetype": "text/x-python",
   "name": "python",
   "nbconvert_exporter": "python",
   "pygments_lexer": "ipython3",
   "version": "3.10.4"
  }
 },
 "nbformat": 4,
 "nbformat_minor": 1
}
