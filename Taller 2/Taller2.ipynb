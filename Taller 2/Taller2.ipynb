{
 "cells": [
  {
   "cell_type": "markdown",
   "metadata": {},
   "source": [
    "# Taller 2 TIA\n",
    "## Jose Eduardo Garnica Aza - Johan Sebastian Suarez Sepulveda\n",
    "### Analisis por bittward"
   ]
  },
  {
   "cell_type": "code",
   "execution_count": 2,
   "metadata": {},
   "outputs": [],
   "source": [
    "%matplotlib inline\n",
    "from PIL import Image\n",
    "import matplotlib.pyplot as plt\n",
    "import matplotlib.gridspec as gridspec\n",
    "import numpy as np \n",
    "import math as m\n",
    "import imutils\n",
    "\n",
    "import timeit as tm\n",
    "import cv2\n",
    "import pandas as pd"
   ]
  },
  {
   "cell_type": "code",
   "execution_count": 3,
   "metadata": {},
   "outputs": [],
   "source": [
    "image=np.array(Image.open('Tarjeton.jpg'))\n",
    "height, width = image.shape[:2]\n",
    "image=cv2.resize(image, (2*width,2*height), cv2.INTER_LINEAR)\n"
   ]
  },
  {
   "cell_type": "markdown",
   "metadata": {},
   "source": [
    "### Definición de función Prewitt Total"
   ]
  },
  {
   "cell_type": "code",
   "execution_count": 4,
   "metadata": {},
   "outputs": [],
   "source": [
    "\n",
    "def PrewittTotal(image): \n",
    "    kernelN=np.array([[-1,-1,-1],[1,-2,1],[1,1,1]])\n",
    "    kernelS=np.array([[1,1,1],[1,-2,1],[-1,-1,-1]])\n",
    "    kernelE=np.array([[1,1,-1],[1,-2,-1],[1,1,-1]])\n",
    "    kernelO=np.array([[-1,1,1],[-1,-2,1],[-1,1,1]])\n",
    "    kernelNO=np.array([[-1,-1,1],[-1,-2,1],[1,1,1]])\n",
    "    kernelNE=np.array([[1,-1,-1],[1,-2,-1],[1,1,1]])\n",
    "    kernelSE=np.array([[1,1,1],[1,-2,-1],[1,-1,-1]])\n",
    "    kernelSO=np.array([[1,1,1],[-1,-2,1],[-1,-1,1]])\n",
    "\n",
    "\n",
    "    PrewittN=cv2.filter2D(image,-1,kernelN)\n",
    "    PrewittS=cv2.filter2D(image,-1,kernelS)\n",
    "    PrewittE=cv2.filter2D(image,-1,kernelE)\n",
    "    PrewittO=cv2.filter2D(image,-1,kernelO)\n",
    "    PrewittNO=cv2.filter2D(image,-1,kernelNO)\n",
    "    PrewittNE=cv2.filter2D(image,-1,kernelNE)\n",
    "    PrewittSE=cv2.filter2D(image,-1,kernelSE)\n",
    "    PrewittSO=cv2.filter2D(image,-1,kernelSO)\n",
    "    PrewittTotal=PrewittN+PrewittS+PrewittE+PrewittO+PrewittNO+PrewittNE+PrewittSE+PrewittSO\n",
    "    return PrewittTotal\n"
   ]
  },
  {
   "cell_type": "markdown",
   "metadata": {},
   "source": [
    "### Definición de función Prewitt Parcial"
   ]
  },
  {
   "cell_type": "code",
   "execution_count": 5,
   "metadata": {},
   "outputs": [],
   "source": [
    "\n",
    "def PrewittParcial(image): \n",
    "    kernelN=np.array([[-1,-1,-1],[1,-2,1],[1,1,1]])\n",
    "    kernelS=np.array([[1,1,1],[1,-2,1],[-1,-1,-1]])\n",
    "    kernelE=np.array([[1,1,-1],[1,-2,-1],[1,1,-1]])\n",
    "    kernelO=np.array([[-1,1,1],[-1,-2,1],[-1,1,1]])\n",
    "    kernelNO=np.array([[-1,-1,1],[-1,-2,1],[1,1,1]])\n",
    "    kernelNE=np.array([[1,-1,-1],[1,-2,-1],[1,1,1]])\n",
    "    kernelSE=np.array([[1,1,1],[1,-2,-1],[1,-1,-1]])\n",
    "    kernelSO=np.array([[1,1,1],[-1,-2,1],[-1,-1,1]])\n",
    "\n",
    "\n",
    "    PrewittN=cv2.filter2D(image,-1,kernelN)\n",
    "    PrewittS=cv2.filter2D(image,-1,kernelS)\n",
    "    PrewittE=cv2.filter2D(image,-1,kernelE)\n",
    "    PrewittO=cv2.filter2D(image,-1,kernelO)\n",
    "    PrewittNO=cv2.filter2D(image,-1,kernelNO)\n",
    "    PrewittNE=cv2.filter2D(image,-1,kernelNE)\n",
    "    PrewittSE=cv2.filter2D(image,-1,kernelSE)\n",
    "    PrewittSO=cv2.filter2D(image,-1,kernelSO)\n",
    "    PrewittParcial=PrewittN+PrewittO\n",
    "    return PrewittParcial\n",
    "\n"
   ]
  },
  {
   "cell_type": "markdown",
   "metadata": {},
   "source": [
    "### Implementación y visualización"
   ]
  },
  {
   "cell_type": "code",
   "execution_count": 6,
   "metadata": {},
   "outputs": [],
   "source": [
    "\n",
    "image1=np.array(PrewittTotal(image))\n",
    "image2=np.array(PrewittParcial(image))\n",
    "cv2.imshow('Imagen Original', image)\n",
    "cv2.imshow('Imagen filtro completo', image1)\n",
    "cv2.imshow('Imagen filtro parcial', image2)\n",
    "cv2.waitKey(0)\n",
    "cv2.destroyAllWindows()\n",
    "\n"
   ]
  }
 ],
 "metadata": {
  "interpreter": {
   "hash": "e94cf552f7b676573e394eb0ddedb229e06e8df3695a5317dfa8ca16d91c45de"
  },
  "kernelspec": {
   "display_name": "Python 3.10.2 64-bit (windows store)",
   "language": "python",
   "name": "python3"
  },
  "language_info": {
   "codemirror_mode": {
    "name": "ipython",
    "version": 3
   },
   "file_extension": ".py",
   "mimetype": "text/x-python",
   "name": "python",
   "nbconvert_exporter": "python",
   "pygments_lexer": "ipython3",
   "version": "3.10.2"
  },
  "orig_nbformat": 4
 },
 "nbformat": 4,
 "nbformat_minor": 2
}
