{
 "cells": [
  {
   "cell_type": "markdown",
   "metadata": {},
   "source": [
    "<p style=\"font-size:300%; background-color:pink; color:blue; text-align:center;line-height : 80px; margin : 0; padding : 0;\">\n",
    "Taller 3</p>\n",
    "<p style=\"font-size:240%; background-color:pink; color:red; text-align:center;line-height : 60px; margin : 0; padding : 0;\">\n",
    "Técnicas de Inteligencia Artificial - Visión de Máquina</p1>\n",
    "\n",
    "<p style=\"font-size:200%; text-align:center; line-height : 40px;  margin-top : 0; margin-bottom : 0; \"> <br>Jose Eduardo Garnica Aza - Johan Sebastian Suarez Sepulveda</p>\n",
    "<p style=\"font-size:160%; text-align:center; line-height : 20px; margin-top : 0; \"> email: jgarnicaa@unal.edu.co email: jssuarezse@unal.edu.co</p>\n",
    "<p style=\"font-size:180%; text-align:center; line-height : 30px;  margin-top : 0; margin-bottom : 0; \"> <br><br>INGENIERÍA MECATRÓNICA</p>\n",
    "<p style=\"font-size:180%; text-align:center; line-height : 30px; margin-top : 0; \"> Facultad de Ingeniería</p>\n",
    "<p style=\"font-size:160%; text-align:center; line-height : 30px; margin-top : 0; \"> Universidad Nacional de Colombia Sede Bogotá</p>\n",
    "<br>\n",
    "<img src=\"Integrantes.png\",width=10,height=10>\n",
    "<p style=\"font-size:160%; text-align:center; line-height : 30px; margin-top : 0; \"> <br>28 de marzo de 2022</p>"
   ]
  },
  {
   "cell_type": "markdown",
   "metadata": {},
   "source": [
    "# Taller 3 TIA\n",
    "## Jose Eduardo Garnica Aza - Johan Sebastian Suarez Sepulveda"
   ]
  },
  {
   "cell_type": "code",
   "execution_count": 4,
   "metadata": {},
   "outputs": [],
   "source": [
    "%matplotlib inline\n",
    "from PIL import Image\n",
    "import matplotlib.pyplot as plt\n",
    "import matplotlib.gridspec as gridspec\n",
    "import numpy as np \n",
    "import math as m\n",
    "import time\n",
    "import timeit as tm\n",
    "import cv2 as cv\n",
    "import pandas as pd"
   ]
  },
  {
   "cell_type": "code",
   "execution_count": 5,
   "metadata": {},
   "outputs": [],
   "source": [
    "image=np.array(Image.open('Tarjeton.jpg'))\n"
   ]
  },
  {
   "cell_type": "markdown",
   "metadata": {},
   "source": [
    "## Funcion Adelgazamiento\n",
    "- En función de dilataciones y erosiones, el esqueleto está definido como una sucesion de cierres y aperturas que permiten encontrar la figura fundamental de la imagen."
   ]
  },
  {
   "cell_type": "code",
   "execution_count": 6,
   "metadata": {},
   "outputs": [],
   "source": [
    "### Forma de función para adelgazar\n",
    "def adelgazar(imagen, kernel):\n",
    "\n",
    "    imagegray = cv.cvtColor(image, cv.COLOR_RGB2GRAY)\n",
    "\n",
    "    imageHitOrMiss = cv.morphologyEx(imagegray, cv.MORPH_HITMISS, kernel)\n",
    "    \n",
    "    imagenadelgazada = imagegray - imageHitOrMiss\n",
    "\n",
    "\n",
    "    return imagenadelgazada"
   ]
  },
  {
   "cell_type": "code",
   "execution_count": 7,
   "metadata": {},
   "outputs": [],
   "source": [
    "\n",
    "kernel1 = np.array((\n",
    "        [0, 1, 0],\n",
    "        [1, -1, 1],\n",
    "        [0, 1, 0]), dtype=\"int\")\n",
    "\n",
    "imageadel = adelgazar(image, kernel1)\n",
    "\n"
   ]
  },
  {
   "cell_type": "code",
   "execution_count": 8,
   "metadata": {},
   "outputs": [],
   "source": [
    "imagegray = cv.cvtColor(image, cv.COLOR_RGB2GRAY)\n",
    "imageHitOrMiss = cv.morphologyEx(imagegray, cv.MORPH_HITMISS, kernel1) #Se repite codigo para poder imprimir estas imagenes para su comparación\n",
    "ret,imageumbr = cv.threshold(imagegray,127,255,cv.THRESH_BINARY)"
   ]
  },
  {
   "cell_type": "code",
   "execution_count": 11,
   "metadata": {},
   "outputs": [],
   "source": [
    "#impresión\n",
    "cv.imshow('Imagen Original', image)\n",
    "cv.imshow('Imagen en escala de grises', imagegray)\n",
    "cv.imshow('Imagen umbralizada', imageumbr)\n",
    "cv.imshow('Imagen filtro Hit-or-Miss', imageHitOrMiss)\n",
    "cv.imshow('Imagen adelgazada', imageadel)\n",
    "cv.waitKey(0)\n",
    "cv.destroyAllWindows()"
   ]
  },
  {
   "cell_type": "markdown",
   "metadata": {},
   "source": [
    "## Funcion esqueleto\n",
    "- En función de dilataciones y erosiones, el esqueleto está definido como una sucesion de cierres y aperturas que permiten encontrar la figura fundamental de la imagen."
   ]
  },
  {
   "cell_type": "code",
   "execution_count": 28,
   "metadata": {},
   "outputs": [],
   "source": [
    "#Función esqueleto\n",
    "def esqueleto (imgumbr, kernel):\n",
    "  image1=imgumbr\n",
    "  image2=imgumbr\n",
    "\n",
    "  count=0\n",
    "  while np.any(image1!=0):9\n",
    "        image1=cv.erode(image1,kernel,1)\n",
    "        count=count+1 #contador para encontrar K veces antes de erosion = 0 \n",
    "\n",
    "  for i in range(count-1):\n",
    "    image2=cv.erode(image2,kernel,1) #Erosión hasta K-1 antes de ser completamente 0 la imagen así se encuentra A-kB\n",
    "\n",
    "\n",
    "  factor2=cv.morphologyE0x(image2,cv.MORPH_OPEN,kernel) #Abertura para operación de esqueleto (A-kB)-(A-kB)°B\n",
    "\n",
    "  esqueleto=image2-factor2  \n",
    "\n",
    "\n",
    "  return esqueleto\n"
   ]
  },
  {
   "cell_type": "code",
   "execution_count": 29,
   "metadata": {},
   "outputs": [],
   "source": [
    "kernel2 = np.array((\n",
    "        [1, 1, 1],\n",
    "        [1, 1, 1],\n",
    "        [1, 1, 1]), dtype=\"int\")\n",
    "\n",
    "esqueleto=esqueleto(imageumbr,kernel2)\n"
   ]
  },
  {
   "cell_type": "markdown",
   "metadata": {},
   "source": [
    "Impresion de esqueleto y umbral"
   ]
  },
  {
   "cell_type": "code",
   "execution_count": 9,
   "metadata": {},
   "outputs": [],
   "source": [
    "cv.imshow('Imagen umbralizada', imageumbr)\n",
    "cv.imshow('Imagen esqueleto', esqueleto)\n",
    "cv.imshow('Imagen en escala de grises', imagegray)\n",
    "cv.waitKey(0)\n",
    "cv.destroyAllWindows()"
   ]
  },
  {
   "cell_type": "markdown",
   "metadata": {},
   "source": [
    "# Exploración y estudio de otros filtros vistos"
   ]
  },
  {
   "cell_type": "markdown",
   "metadata": {},
   "source": [
    "- Dilatación\n",
    "- Erosión\n",
    "- Apertura\n",
    "- Cierre\n",
    "- Extracción de fronteras\n",
    "- Gradiente\n",
    "- Tophat\n",
    "- Blackhat"
   ]
  },
  {
   "cell_type": "markdown",
   "metadata": {},
   "source": [
    "## Funcion de dilatacion\n",
    "\n",
    "- En general, el efecto de realizar una dilatación en grises es: \n",
    "- Si todos los valores del elemento estructural son positivos, la imagen resultante suele tener más brillo que la original (es más clara). \n",
    "- Los detalles oscuros se reducen o eliminan dependiendo de sus valores y la forma del elemento estructural."
   ]
  },
  {
   "cell_type": "code",
   "execution_count": 13,
   "metadata": {},
   "outputs": [],
   "source": [
    "#Dilatación\n",
    "kernel3= cv.getStructuringElement(cv.MORPH_CROSS,(7,5),(3,1))\n",
    "kernel4= cv.getStructuringElement(cv.MORPH_RECT,(7,5),(3,1))\n",
    "kernel5= cv.getStructuringElement(cv.MORPH_ELLIPSE,(7,5),(3,1))\n",
    "dilatada= cv.dilate(image, kernel3, 1)\n",
    "dilatada1= cv.dilate(image, kernel4, 1)\n",
    "dilatada2= cv.dilate(image, kernel5, 1)\n",
    "cv.imshow('Imagen dilatada con elemento estructurante de tipo cruz', dilatada)\n",
    "cv.imshow('Imagen dilatada con elemento estructurante de tipo recta', dilatada1)\n",
    "cv.imshow('Imagen dilatada con elemento estructurante de tipo eliptico', dilatada2)\n",
    "cv.waitKey(0)\n",
    "cv.destroyAllWindows()\n"
   ]
  },
  {
   "cell_type": "markdown",
   "metadata": {},
   "source": [
    "## Funcion de erosion\n",
    "\n",
    "- En general, el efecto de realizar una erosión en grises es: \n",
    "- Si todos los valores del elemento estructural son positivos, la imagen resultante suele ser más oscura que la original.\n",
    "- Los detalles brillantes (claros) se reducen o eliminan dependiendo de sus valores y la forma del elemento estructural."
   ]
  },
  {
   "cell_type": "code",
   "execution_count": 15,
   "metadata": {},
   "outputs": [],
   "source": [
    "#Erosion\n",
    "erode= cv.erode(image, kernel3, 1)\n",
    "erode1= cv.erode(image, kernel4, 1)\n",
    "erode2= cv.erode(image, kernel5, 1)\n",
    "cv.imshow('Imagen erosionada con elemento estructurante de tipo cruz', erode)\n",
    "cv.imshow('Imagen erosionada con elemento estructurante de tipo recta', erode1)\n",
    "cv.imshow('Imagen erosionada con elemento estructurante de tipo eliptico', erode2)\n",
    "cv.waitKey(0)\n",
    "cv.destroyAllWindows()\n"
   ]
  },
  {
   "cell_type": "markdown",
   "metadata": {},
   "source": [
    "- Las demás operaciones salen de la union de aperturas y erosiones aplicados a los distintos elementos estructurantes para modificar la imagen, estas operaciones las vemos a continuacion:"
   ]
  },
  {
   "cell_type": "code",
   "execution_count": 24,
   "metadata": {},
   "outputs": [],
   "source": [
    "## Apertura\n",
    "\n",
    "apertura= cv.morphologyEx(imageumbr, cv.MORPH_OPEN ,kernel3)\n",
    "apertura1= cv.morphologyEx(imageumbr, cv.MORPH_OPEN ,kernel4)\n",
    "apertura2= cv.morphologyEx(imageumbr, cv.MORPH_OPEN ,kernel5)\n",
    "cv.imshow('Imagen con la operacion de apertura con elemento estructurante de tipo cruz', apertura)\n",
    "cv.imshow('Imagen con la operacion de apertura con elemento estructurante de tipo recta', apertura1)\n",
    "cv.imshow('Imagen con la operacion de apertura con elemento estructurante de tipo eliptico', apertura2)\n",
    "cv.waitKey(0)\n",
    "cv.destroyAllWindows()"
   ]
  },
  {
   "cell_type": "code",
   "execution_count": 25,
   "metadata": {},
   "outputs": [],
   "source": [
    "## Cierre\n",
    "cierre= cv.morphologyEx(image, cv.MORPH_CLOSE ,kernel3)\n",
    "cierre1= cv.morphologyEx(image, cv.MORPH_CLOSE ,kernel4)\n",
    "cierre2= cv.morphologyEx(image, cv.MORPH_CLOSE ,kernel5)\n",
    "cv.imshow('Imagen con la operacion de cierre con elemento estructurante de tipo cruz', cierre)\n",
    "cv.imshow('Imagen con la operacion de cierre con elemento estructurante de tipo recta', cierre1)\n",
    "cv.imshow('Imagen con la operacion de cierre con elemento estructurante de tipo eliptico', cierre2)\n",
    "cv.waitKey(0)\n",
    "cv.destroyAllWindows()"
   ]
  },
  {
   "cell_type": "code",
   "execution_count": 31,
   "metadata": {},
   "outputs": [],
   "source": [
    "## Extraccion de fronteras\n",
    "erodeparaextraccion= cv.erode(imageumbr, kernel2, 1)\n",
    "extraccion= imageumbr-erodeparaextraccion\n",
    "cv.imshow('Imagen con la operacion de extraccion de frontera', extraccion)\n",
    "cv.waitKey(0)\n",
    "cv.destroyAllWindows()"
   ]
  },
  {
   "cell_type": "code",
   "execution_count": 34,
   "metadata": {},
   "outputs": [],
   "source": [
    "## Gradiente\n",
    "gradiente= cv.morphologyEx(imagegray, cv.MORPH_GRADIENT ,kernel3)\n",
    "gradiente1= cv.morphologyEx(imagegray, cv.MORPH_GRADIENT ,kernel4)\n",
    "gradiente2= cv.morphologyEx(imagegray, cv.MORPH_GRADIENT ,kernel5)\n",
    "cv.imshow('Imagen con la operacion de gradiente con elemento estructurante de tipo cruz', gradiente)\n",
    "cv.imshow('Imagen con la operacion de gradiente con elemento estructurante de tipo recta', gradiente1)\n",
    "cv.imshow('Imagen con la operacion de gradiente con elemento estructurante de tipo eliptico', gradiente2)\n",
    "cv.waitKey(0)\n",
    "cv.destroyAllWindows()"
   ]
  },
  {
   "cell_type": "code",
   "execution_count": 42,
   "metadata": {},
   "outputs": [],
   "source": [
    "## TopHat\n",
    "Tophat= cv.morphologyEx(image, cv.MORPH_TOPHAT ,kernel3)\n",
    "Tophat1= cv.morphologyEx(image, cv.MORPH_TOPHAT ,kernel4)\n",
    "Tophat2= cv.morphologyEx(image, cv.MORPH_TOPHAT ,kernel5)\n",
    "cv.imshow('Imagen con la operacion de Tophat con elemento estructurante de tipo cruz', Tophat)\n",
    "cv.imshow('Imagen con la operacion de Tophat con elemento estructurante de tipo recta', Tophat1)\n",
    "cv.imshow('Imagen con la operacion de Tophat con elemento estructurante de tipo eliptico', Tophat2)\n",
    "cv.waitKey(0)\n",
    "cv.destroyAllWindows()"
   ]
  },
  {
   "cell_type": "code",
   "execution_count": 45,
   "metadata": {},
   "outputs": [],
   "source": [
    "## Black Hat\n",
    "\n",
    "blackhat= cv.morphologyEx(imagegray, cv.MORPH_BLACKHAT ,kernel3)\n",
    "blackhat1= cv.morphologyEx(image, cv.MORPH_BLACKHAT ,kernel4)\n",
    "blackhat2= cv.morphologyEx(image, cv.MORPH_BLACKHAT ,kernel5)\n",
    "cv.imshow('Imagen con la operacion de blakchat con elemento estructurante de tipo cruz', blackhat)\n",
    "cv.imshow('Imagen con la operacion de blackhat con elemento estructurante de tipo recta', blackhat1)\n",
    "cv.imshow('Imagen con la operacion de blackhat con elemento estructurante de tipo eliptico', blackhat2)\n",
    "cv.waitKey(0)\n",
    "cv.destroyAllWindows()"
   ]
  },
  {
   "cell_type": "markdown",
   "metadata": {},
   "source": [
    "<h1 style=\"font-size:300%; background-color:powderblue; color:red; text-align:center; line-height : 60px;\">\n",
    "Análisis de las funciones del taller aplicadas a imágenes del taller </h1>"
   ]
  },
  {
   "cell_type": "markdown",
   "metadata": {},
   "source": [
    "- Iniciando con la dilatacion, podemos ver que para imágenes claras, la imagen se pierde totalmente, por lo que podemos concluir que para imagenes opacas, al aplicar la dilatacion podremos mejorar la visualizacion de las imágenes, mejorando la calidad de colores oscuros.\n",
    "\n",
    "- Con la erosion tenemos un fenómeno en el cual, los detalles se vuelven muy opacos a tal punto que no se alcanzan a visualizar, sin embargo, si deseearamos borrar detalles pequeño como en nuestro caso marcas por fuera de los recuadros  tarjeton, las cuales en la actualidad no afectan el voto siempre y cuando la intencion sea clara, podriamos aplicar una erosion y luego una dilatacion, para borrar esos detalles que pueden generar problemas a la hora de entender el voto de las personas.\n",
    "\n",
    "- La apertura como se puede observar, busca eliminar el ruido de la imagen, esta operacion no nos sirve para nuestra aplicacion, sin embargo en la imagen podemos ver como los recuadros terminan como un ovalo completo, sin embargo para nosotros es de utilidad la informacion dentro de los ovalos, que es el numero del candidato por el cual voto el ciudadano.\n",
    "\n",
    "- La clausura es otra operacion que no nos sirve para el proyecto, cuya funcion es eliminar el ruido dentro de la imagen, en este caso la funcion toma como ruido los numeros de los candidatos, los elimina de manera que el mensaje de muestra no valida se puede ver de manera claraa, estamos en busqueda de tarjetones sin esa marca de agua para probar el funcionamiento de la operacion sin embargo por el momento esta es la conlusion.\n",
    "\n",
    "- La extraccion de frontera, es otra manera de obtener los bordes de la imagen obteniendo un resultado similar al de un filtro cannt, donde el punto a favor de la extraccion de fronteras es la claridad de los números del tarjeton, es una funcion muy buena para obtener el borde de cualquier figura.\n",
    "\n",
    "- El gradiente es otra operacion para encontrar el borde de una imagen sin embargo al tener tantas figuras tan cercanas genera demasiado ruido en la imagen.\n",
    "\n",
    "- Con la operacion top hat, obtuvimos un bajo desempeño para el realce de los números del tarjeton.\n",
    "\n",
    "- Por el contrario con la operacion blackhat, obtuvimos un muy buen desempeño para el realce de los números del tarjeton.\n"
   ]
  },
  {
   "cell_type": "code",
   "execution_count": null,
   "metadata": {},
   "outputs": [],
   "source": []
  }
 ],
 "metadata": {
  "interpreter": {
   "hash": "e94cf552f7b676573e394eb0ddedb229e06e8df3695a5317dfa8ca16d91c45de"
  },
  "kernelspec": {
   "display_name": "Python 3 (ipykernel)",
   "language": "python",
   "name": "python3"
  },
  "language_info": {
   "codemirror_mode": {
    "name": "ipython",
    "version": 3
   },
   "file_extension": ".py",
   "mimetype": "text/x-python",
   "name": "python",
   "nbconvert_exporter": "python",
   "pygments_lexer": "ipython3",
   "version": "3.10.2"
  }
 },
 "nbformat": 4,
 "nbformat_minor": 2
}
