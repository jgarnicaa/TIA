{
 "cells": [
  {
   "cell_type": "markdown",
   "metadata": {},
   "source": [
    "<p style=\"font-size:300%; background-color:pink; color:blue; text-align:center;line-height : 80px; margin : 0; padding : 0;\">\n",
    "Taller 5</p>\n",
    "<p style=\"font-size:240%; background-color:pink; color:red; text-align:center;line-height : 60px; margin : 0; padding : 0;\">\n",
    "Técnicas de Inteligencia Artificial - Visión de Máquina</p1>\n",
    "\n",
    "<p style=\"font-size:200%; text-align:center; line-height : 40px;  margin-top : 0; margin-bottom : 0; \"> <br>Jose Eduardo Garnica Aza - Johan Sebastian Suarez Sepulveda</p>\n",
    "<p style=\"font-size:160%; text-align:center; line-height : 20px; margin-top : 0; \"> email: jgarnicaa@unal.edu.co email: jssuarezse@unal.edu.co</p>\n",
    "<p style=\"font-size:180%; text-align:center; line-height : 30px;  margin-top : 0; margin-bottom : 0; \"> <br><br>INGENIERÍA MECATRÓNICA</p>\n",
    "<p style=\"font-size:180%; text-align:center; line-height : 30px; margin-top : 0; \"> Facultad de Ingeniería</p>\n",
    "<p style=\"font-size:160%; text-align:center; line-height : 30px; margin-top : 0; \"> Universidad Nacional de Colombia Sede Bogotá</p>\n",
    "<br>\n",
    "<img src=\"Integrantes.png\",width=10,height=10>\n",
    "<p style=\"font-size:160%; text-align:center; line-height : 30px; margin-top : 0; \"> <br>4 de mayo de 2022</p>"
   ]
  },
  {
   "cell_type": "markdown",
   "metadata": {},
   "source": [
    "# Extracción de caracteristicas\n",
    "El objetivo de este taller es tratar 30 imagenes concernientes al proyecto y definir un vector de caracteristicas mayor o igual a 30. \n",
    "\n",
    "### Plan de acción\n",
    "- Definición de caracteristicas\n",
    "- Carga de imagenes\n",
    "- Preproceso de imagenes\n",
    "- Hallar momentos \n",
    "- Realizar análisis de componentes principales"
   ]
  },
  {
   "cell_type": "code",
   "execution_count": 1,
   "metadata": {},
   "outputs": [],
   "source": [
    "#librerias\n",
    "%matplotlib inline\n",
    "from PIL import Image\n",
    "import matplotlib.pyplot as plt\n",
    "import matplotlib.gridspec as gridspec\n",
    "from matplotlib.colors import ListedColormap\n",
    "import numpy as np \n",
    "import math as m\n",
    "import time\n",
    "import timeit as tm\n",
    "import cv2 as cv\n",
    "import pandas as pd\n",
    "from pylab import plot,subplot,axis,stem,show,figure\n",
    "from numpy import mean,cov,double,cumsum,dot,linalg,array\n",
    "import os\n",
    "from scipy import signal\n",
    "from scipy import misc\n",
    "\n",
    "from sklearn import neighbors, datasets"
   ]
  },
  {
   "cell_type": "code",
   "execution_count": 2,
   "metadata": {},
   "outputs": [
    {
     "name": "stdout",
     "output_type": "stream",
     "text": [
      "['batman1.jpg', 'batman10.jpg', 'batman2.jpg', 'batman3.jpg', 'batman4.jpg', 'batman5.jpg', 'batman6.jpg', 'batman7.jpg', 'batman8.png', 'batman9.jpg', 'flash1.jpg', 'flash10.jpg', 'flash2.jpg', 'flash3.jpg', 'flash4.png', 'flash5.png', 'flash6.png', 'flash7.jpg', 'flash8.jpg', 'flash9.jpg', 'superman1.png', 'superman10.jpg', 'superman2.jpg', 'superman3.jpg', 'superman4.jpg', 'superman5.jpg', 'superman6.jpg', 'superman7.jpg', 'Superman8.jpg', 'superman9.jpg']\n"
     ]
    }
   ],
   "source": [
    "#codigo para importar grupo de imagenes\n",
    "\n",
    "inputpath=\"InputImages\"\n",
    "inputnames= os.listdir(inputpath)\n",
    "print(inputnames)\n",
    "\n",
    "outputpath=\"OutputImages\"\n",
    "if not os.path.exists(outputpath):\n",
    "    os.makedirs(outputpath)\n",
    "    print(\"Directorio de salida creado\")\n",
    "\n",
    "sift = cv.SIFT_create()"
   ]
  },
  {
   "cell_type": "code",
   "execution_count": 3,
   "metadata": {},
   "outputs": [],
   "source": [
    "#codigo para lectura y proceso de imagenes (canny)\n",
    "#trabajar siempre dentro del for para operar todas las imagenes al tiempo\n",
    "\n",
    "#Cada columna de la matriz representa una imagen y cada fila una caracteristica\n",
    "\n",
    "M=np.zeros((40,30))\n",
    "\n",
    "\n",
    "count =0\n",
    "for inputnames in inputnames:\n",
    "\n",
    "    #---------------------Pre proceso de imagenes--------------------------------#\n",
    "\n",
    "    imagepath=inputpath+\"/\"+inputnames\n",
    "    image=cv.imread(imagepath)\n",
    "    imagegray = cv.cvtColor(image, cv.COLOR_RGB2GRAY)\n",
    "    canny = cv.Canny(image , 25, 50, apertureSize = 3)\n",
    "    cv.imwrite(outputpath+\"/imagecan\"+str(count)+\".jpg\", canny)\n",
    "    #Detecte puntos clave\n",
    "    kp, des = sift.detectAndCompute(canny, None)\n",
    "    Keypoints = cv.drawKeypoints(canny,kp,canny,color=(255,0,255)) # Dibuje los puntos característicos y muéstrelos como círculos rojos\n",
    "    cv.imwrite(outputpath+\"/keypoints\"+str(count)+\".jpg\", Keypoints)\n",
    "    #Hallar contornos\n",
    "    ret, thresh = cv.threshold(imagegray, 127, 255, 0)\n",
    "    contours, hierarchy = cv.findContours(thresh, cv.RETR_TREE, cv.CHAIN_APPROX_SIMPLE)\n",
    "    img_contours = np.zeros(image.shape)\n",
    "    cv.drawContours(img_contours, contours, -1, (0,255,0), 3)\n",
    "    cv.imwrite(outputpath+\"/contours\"+str(count)+\".jpg\", img_contours)\n",
    "    imgmedian= cv.medianBlur(imagegray,5)\n",
    "    \n",
    "\n",
    "    #-----------------------Extracción de caracteristicas-------------------------#    \n",
    "    cnt = contours[0]\n",
    "\n",
    "\n",
    "    Rx,Ry,Rw,Rh=cv.boundingRect(cnt)\n",
    "    RectM=cv.minAreaRect(cnt)\n",
    "    box = cv.boxPoints(RectM)\n",
    "    BaseRectM=m.sqrt(abs(pow(((box[1][0])-box[0][0]),2)-pow(((box[1][1])-box[0][1]),2)))\n",
    "    AlturaRectM=m.sqrt(abs(pow(((box[2][0])-box[1][0]),2)-pow(((box[2][1])-box[1][1]),2)))\n",
    "\n",
    "    (Cx,Cy),radius = cv.minEnclosingCircle(cnt)\n",
    "    linesH = cv.HoughLines(canny, 1, np.pi / 180, 200)\n",
    "    linesHP = cv.HoughLinesP(canny,1,np.pi/180,100,minLineLength=100,maxLineGap=10)\n",
    "    \n",
    "    CirclesH= cv.HoughCircles(imgmedian,cv.HOUGH_GRADIENT,1,120,param1=100,param2=30,minRadius=0,maxRadius=0)\n",
    "    CirclesH= np.uint16(np.around(CirclesH))\n",
    "\n",
    "    Momentos=cv.moments(cnt)\n",
    "    MomentosHu = cv.HuMoments(Momentos)\n",
    "\n",
    "\n",
    "    PerimetroContorno = cv.arcLength(cnt, 1)\n",
    "    AreaContorno = cv.contourArea(cnt)\n",
    "    PerimetroRect=2*Rw+2*Rh\n",
    "    AreaRect=Rw*Rh\n",
    "    PerimetroRectM=2*BaseRectM+2*AlturaRectM\n",
    "    AreaRectM=BaseRectM*AlturaRectM\n",
    "    radius = int(radius)\n",
    "    AreaCir= m.pi*radius**2\n",
    "    PerimetroCir=2*m.pi*radius\n",
    "    NLinesH=np.size(linesH)\n",
    "    NLinesHP=np.size(linesHP)\n",
    "    NCirculosH=np.size(CirclesH[0,:])\n",
    "\n",
    "    #-----------------------Llenado de caracteristicas en la matriz---------------#\n",
    "\n",
    "    M[0][count]=PerimetroContorno #Primera fila perimetro contornos\n",
    "    M[1][count]=AreaContorno #Segunda fila area de contornos\n",
    "    M[2][count]=PerimetroRect #Cuarta fila perimetro rectangulo \n",
    "    M[3][count]=AreaRect #Quinta fila Area rectangulo\n",
    "    M[4][count]=PerimetroRectM #Sexta fila perimetro rectagulo minimo\n",
    "    M[5][count]=AreaRectM #Septima fila area rectagulo minimo\n",
    "    M[6][count]=PerimetroCir #Octava fila perimetro del circulo\n",
    "    M[7][count]=AreaCir #Novena fila area circulo\n",
    "    M[8][count]=NCirculosH #Fila 12 numero de circulos Hough\n",
    "    M[9][count]= Momentos['m00']#Filas para momentos espaciales\n",
    "    M[10][count]= Momentos['m10']\n",
    "    M[11][count]= Momentos['m01']\n",
    "    M[12][count]= Momentos['m20']\n",
    "    M[13][count]= Momentos['m11']\n",
    "    M[14][count]= Momentos['m02']\n",
    "    M[15][count]= Momentos['m30']\n",
    "    M[16][count]= Momentos['m21']\n",
    "    M[17][count]= Momentos['m12']\n",
    "    M[18][count]= Momentos['m03']\n",
    "    M[19][count]=Momentos['mu20'] #Filas para momentos centralizados\n",
    "    M[20][count]=Momentos['mu11']\n",
    "    M[21][count]=Momentos['mu02']\n",
    "    M[22][count]=Momentos['mu30']\n",
    "    M[23][count]=Momentos['mu21']\n",
    "    M[24][count]=Momentos['mu12']\n",
    "    M[25][count]=Momentos['mu03']\n",
    "    M[26][count]=Momentos['nu20']#Filas para momentos centralizados normalizados\n",
    "    M[27][count]=Momentos['nu11']\n",
    "    M[28][count]=Momentos['nu02']\n",
    "    M[29][count]=Momentos['nu30']\n",
    "    M[30][count]=Momentos['nu21']\n",
    "    M[31][count]=Momentos['nu12']\n",
    "    M[32][count]=Momentos['nu03']\n",
    "    M[33][count]=MomentosHu[0]\n",
    "    M[34][count]=MomentosHu[1]\n",
    "    M[35][count]=MomentosHu[2]\n",
    "    M[36][count]=MomentosHu[3]\n",
    "    M[37][count]=MomentosHu[4]\n",
    "    M[38][count]=MomentosHu[5]\n",
    "    M[39][count]=MomentosHu[6]\n",
    "    count +=1\n",
    "\n",
    "#Matriz traspuesta para que las caracteristicas queden en modo columna\n",
    "Mt=np.transpose(M)\n"
   ]
  },
  {
   "cell_type": "markdown",
   "metadata": {},
   "source": [
    "# Para el análisis de componentes principales utilizaremos la funcion PCA de openCv"
   ]
  },
  {
   "cell_type": "code",
   "execution_count": 4,
   "metadata": {},
   "outputs": [
    {
     "name": "stdout",
     "output_type": "stream",
     "text": [
      "\n",
      "Media\n",
      "[[ 1.10602934e+03  1.75794800e+05  1.11693333e+03  1.88687933e+05\n",
      "   1.07040509e+03  1.82462566e+05  1.19673736e+03  2.90241902e+05\n",
      "   5.46000000e+01  1.75794800e+05  7.49449425e+07  8.42597304e+07\n",
      "   4.73407082e+10  4.10637144e+10  6.24691464e+10  3.63427639e+13\n",
      "   2.85361082e+13  3.33290478e+13  5.86664119e+13  1.15372396e+10\n",
      "  -4.19320031e+06  1.47425212e+10 -2.60885425e+08 -5.33646492e+08\n",
      "  -2.66167166e+08 -3.57249341e+08  9.45871613e-02 -3.67085824e-02\n",
      "   1.17138609e-01 -3.50949722e-02  2.38486092e-02 -6.41969161e-03\n",
      "  -5.05781115e-02  2.11725771e-01  1.68813054e-01  4.74030212e-01\n",
      "   7.20710871e-02 -3.99241879e-01 -1.61179606e-01 -9.65621777e-03]]\n",
      "\n",
      "EigenVectors\n",
      "[[ 2.56301681e-12  9.17218456e-10  2.57684348e-12 ...  2.69551924e-16\n",
      "   1.08821966e-16  6.51948649e-18]\n",
      " [ 5.14689077e-11  9.36578484e-09  5.56683582e-11 ...  1.05788944e-14\n",
      "   4.27085818e-15  2.55865190e-16]\n",
      " [ 1.82193117e-10  3.79915502e-08  1.35711333e-10 ...  4.56492835e-14\n",
      "   1.84291948e-14  1.10409133e-15]\n",
      " ...\n",
      " [-1.29574831e-04  3.95578175e-03 -6.42455606e-05 ...  2.21564693e-08\n",
      "   9.07521779e-09  5.35529876e-10]\n",
      " [-7.63646608e-05  5.03960779e-04 -2.53499069e-05 ...  1.29706780e-08\n",
      "   5.29149268e-09  3.13563479e-10]\n",
      " [ 9.09777956e-05  5.03980616e-03  9.48109814e-05 ...  7.70383740e-10\n",
      "   2.82457132e-10  1.87107556e-11]]\n",
      "\n",
      "Valores propios\n",
      "1.222186055667301e+29\n",
      "1.6584008125373006e+26\n",
      "2.996050815846011e+24\n",
      "1.4952006846746182e+21\n",
      "6.92053110013336e+19\n",
      "1.0557021441903008e+19\n",
      "1.5829186430068718e+18\n",
      "5.451026114307778e+16\n",
      "1.9328350204397976e+16\n",
      "4894823599866499.0\n",
      "401857170305727.0\n",
      "11494394496192.0\n",
      "3461783615359.9985\n",
      "1821578815238143.5\n",
      "1492555514239.967\n",
      "328943825232384.0\n",
      "2906074633048064.5\n",
      "406453410519040.0\n",
      "2.3929919773933556e+16\n",
      "4.586449628285747e+16\n",
      "3.017066270895637e+17\n",
      "4.293573099737651e+16\n",
      "604867357060096.0\n",
      "1.0758102707562496e+17\n",
      "2945709448642561.0\n",
      "4.095819043721218e+16\n",
      "4153008163067904.0\n",
      "9173295681650684.0\n",
      "866272843374591.9\n",
      "6.609183924783923e+16\n"
     ]
    }
   ],
   "source": [
    "mean = np.empty((0))\n",
    "mean, eigvector  = cv.PCACompute(Mt.astype(double), mean)\n",
    "print (\"\\nMedia\")\n",
    "print (mean)\n",
    "print (\"\\nEigenVectors\") # Mostrados en Filas\n",
    "print (eigvector)\n",
    "variabilidad = 0\n",
    "print (\"\\nValores propios\")\n",
    "MC = np.cov(Mt.transpose())  \n",
    "for i in range (eigvector.shape[0]):\n",
    "    eigenValue = np.dot(np.dot(eigvector[i].transpose(), MC), eigvector[i])/ np.dot(eigvector[i].transpose(), eigvector[i])\n",
    "    variabilidad= variabilidad+ eigenValue\n",
    "    print (eigenValue)"
   ]
  },
  {
   "cell_type": "markdown",
   "metadata": {},
   "source": [
    "# La variabilidad será igual a la suma de todos los valores propios"
   ]
  },
  {
   "cell_type": "code",
   "execution_count": 5,
   "metadata": {},
   "outputs": [
    {
     "name": "stdout",
     "output_type": "stream",
     "text": [
      "variabilidad = \n",
      "1.2238744327607701e+29\n"
     ]
    }
   ],
   "source": [
    "print(\"variabilidad = \")\n",
    "print(variabilidad)"
   ]
  },
  {
   "cell_type": "markdown",
   "metadata": {},
   "source": [
    "# Ya obtuvimos la variabilidad del conjunto de datos, quitaremos las primeras 15 caracteristicas y realizaremos el mismo procedimiento"
   ]
  },
  {
   "cell_type": "code",
   "execution_count": 6,
   "metadata": {},
   "outputs": [],
   "source": [
    "Mt2=np.delete(Mt,0, axis=1)\n",
    "Mt2=np.delete(Mt2,0, axis=1)\n",
    "Mt2=np.delete(Mt2,0, axis=1)\n",
    "Mt2=np.delete(Mt2,0, axis=1)\n",
    "Mt2=np.delete(Mt2,0, axis=1)\n",
    "Mt2=np.delete(Mt2,0, axis=1)\n",
    "Mt2=np.delete(Mt2,0, axis=1)\n",
    "Mt2=np.delete(Mt2,0, axis=1)\n",
    "Mt2=np.delete(Mt2,0,axis=1)\n",
    "Mt2=np.delete(Mt2,0,axis=1)\n",
    "Mt2=np.delete(Mt2,0,axis=1)\n",
    "Mt2=np.delete(Mt2,0,axis=1)\n",
    "Mt2=np.delete(Mt2,0,axis=1)\n",
    "Mt2=np.delete(Mt2,0,axis=1)\n",
    "Mt2=np.delete(Mt2,0,axis=1)\n",
    "Mt2=np.delete(Mt2,0,axis=1)\n",
    "\n",
    "\n"
   ]
  },
  {
   "cell_type": "code",
   "execution_count": 7,
   "metadata": {},
   "outputs": [
    {
     "name": "stdout",
     "output_type": "stream",
     "text": [
      "variabilidad = \n",
      "1.0273430329111825e+29\n",
      "Porcentaje de variabilidad = \n",
      "83.9418657185068\n"
     ]
    }
   ],
   "source": [
    "mean = np.empty((0))\n",
    "mean, eigvector  = cv.PCACompute(Mt2.astype(double), mean)\n",
    "variabilidad2 = 0\n",
    "MC = np.cov(Mt2.transpose())  \n",
    "for i in range (eigvector.shape[0]):\n",
    "    eigenValue = np.dot(np.dot(eigvector[i].transpose(), MC), eigvector[i])/ np.dot(eigvector[i].transpose(), eigvector[i])\n",
    "    variabilidad2= variabilidad2+ eigenValue\n",
    "print(\"variabilidad = \")\n",
    "print(variabilidad2)\n",
    "print(\"Porcentaje de variabilidad = \")\n",
    "print((variabilidad2*100)/variabilidad)"
   ]
  },
  {
   "cell_type": "markdown",
   "metadata": {},
   "source": [
    "- En la caracteristica #16, el porcentaje de la variabilidad queda en 89%, sin embargo al mirar las demás caracteristicas, no afectan demasiado la variabilidad, por tanto se descartarán."
   ]
  },
  {
   "cell_type": "code",
   "execution_count": 8,
   "metadata": {},
   "outputs": [
    {
     "name": "stdout",
     "output_type": "stream",
     "text": [
      "variabilidad = \n",
      "1.2238733597232122e+29\n",
      "Porcentaje de variabilidad = \n",
      "99.99991232453843\n"
     ]
    }
   ],
   "source": [
    "Mt2=np.delete(Mt,0, axis=1)\n",
    "Mt2=np.delete(Mt2,0, axis=1)\n",
    "Mt2=np.delete(Mt2,0, axis=1)\n",
    "Mt2=np.delete(Mt2,0, axis=1)\n",
    "Mt2=np.delete(Mt2,0, axis=1)\n",
    "Mt2=np.delete(Mt2,0, axis=1)\n",
    "Mt2=np.delete(Mt2,0, axis=1)\n",
    "Mt2=np.delete(Mt2,0, axis=1)\n",
    "Mt2=np.delete(Mt2,0,axis=1)\n",
    "Mt2=np.delete(Mt2,0,axis=1)\n",
    "Mt2=np.delete(Mt2,0,axis=1)\n",
    "Mt2=np.delete(Mt2,0,axis=1)\n",
    "Mt2=np.delete(Mt2,0,axis=1)\n",
    "Mt2=np.delete(Mt2,0,axis=1)\n",
    "Mt2=np.delete(Mt2,0,axis=1)\n",
    "Mt2=np.delete(Mt2,4,axis=1)\n",
    "Mt2=np.delete(Mt2,6,axis=1)\n",
    "Mt2=np.delete(Mt2,6,axis=1)\n",
    "Mt2=np.delete(Mt2,6,axis=1)\n",
    "Mt2=np.delete(Mt2,6,axis=1)\n",
    "Mt2=np.delete(Mt2,6,axis=1)\n",
    "Mt2=np.delete(Mt2,6,axis=1)\n",
    "Mt2=np.delete(Mt2,6,axis=1)\n",
    "Mt2=np.delete(Mt2,6,axis=1)\n",
    "Mt2=np.delete(Mt2,6,axis=1)\n",
    "Mt2=np.delete(Mt2,6,axis=1)\n",
    "Mt2=np.delete(Mt2,6,axis=1)\n",
    "Mt2=np.delete(Mt2,6,axis=1)\n",
    "Mt2=np.delete(Mt2,6,axis=1)\n",
    "Mt2=np.delete(Mt2,6,axis=1)\n",
    "Mt2=np.delete(Mt2,6,axis=1)\n",
    "Mt2=np.delete(Mt2,6,axis=1)\n",
    "Mt2=np.delete(Mt2,6,axis=1)\n",
    "Mt2=np.delete(Mt2,6,axis=1)\n",
    "Mt2=np.delete(Mt2,5,axis=1)\n",
    "Mt2=np.delete(Mt2,4,axis=1)\n",
    "mean = np.empty((0))\n",
    "mean, eigvector  = cv.PCACompute(Mt2.astype(double), mean)\n",
    "variabilidad2 = 0\n",
    "MC = np.cov(Mt2.transpose())  \n",
    "for i in range (eigvector.shape[0]):\n",
    "    eigenValue = np.dot(np.dot(eigvector[i].transpose(), MC), eigvector[i])/ np.dot(eigvector[i].transpose(), eigvector[i])\n",
    "    variabilidad2= variabilidad2+ eigenValue\n",
    "print(\"variabilidad = \")\n",
    "print(variabilidad2)\n",
    "print(\"Porcentaje de variabilidad = \")\n",
    "print((variabilidad2*100)/variabilidad)\n",
    "\n",
    "#Guardar array para taller 6 \n",
    "np.savetxt('Mt2.txt',Mt2)"
   ]
  },
  {
   "cell_type": "markdown",
   "metadata": {},
   "source": [
    "- De las 41 caraterísticas, 5 características nos dan en total la variabilidad, por lo cual estas 5 serian las optimas a utilizar"
   ]
  },
  {
   "cell_type": "markdown",
   "metadata": {},
   "source": [
    "## Referencias bibliograficas y solución de dudas\n",
    "- https://stats.stackexchange.com/questions/22569/pca-and-proportion-of-variance-explained\n",
    "- https://www.analyticsvidhya.com/blog/2019/08/3-techniques-extract-features-from-image-data-machine-learning-python/\n",
    "- https://www.pluralsight.com/guides/building-features-from-image-data-in-python\n"
   ]
  }
 ],
 "metadata": {
  "interpreter": {
   "hash": "65dd8c776b61476d4b1f0afe884cc86eb80e994e3d5e7d70343b37e3ecb9f722"
  },
  "kernelspec": {
   "display_name": "Python 3 (ipykernel)",
   "language": "python",
   "name": "python3"
  },
  "language_info": {
   "codemirror_mode": {
    "name": "ipython",
    "version": 3
   },
   "file_extension": ".py",
   "mimetype": "text/x-python",
   "name": "python",
   "nbconvert_exporter": "python",
   "pygments_lexer": "ipython3",
   "version": "3.10.4"
  }
 },
 "nbformat": 4,
 "nbformat_minor": 2
}
