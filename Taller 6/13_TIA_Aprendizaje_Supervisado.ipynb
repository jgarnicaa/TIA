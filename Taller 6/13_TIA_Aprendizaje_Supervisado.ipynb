{
 "cells": [
  {
   "cell_type": "markdown",
   "metadata": {},
   "source": [
    "<p style=\"font-size:300%; background-color:pink; color:blue; text-align:center;line-height : 80px; margin : 0; padding : 0;\">\n",
    "Aprendizaje Supervisado</p>\n",
    "<p style=\"font-size:240%; background-color:pink; color:red; text-align:center;line-height : 60px; margin : 0; padding : 0;\">\n",
    "Técnicas de Inteligencia Artificial - Visión de Máquina</p1>\n",
    "\n",
    "<p style=\"font-size:200%; text-align:center; line-height : 40px;  margin-top : 0; margin-bottom : 0; \"> <br>Prof. Daniel Vargas Medina</p>\n",
    "<p style=\"font-size:160%; text-align:center; line-height : 20px; margin-top : 0; \"> email: davargasme@unal.edu.co</p>\n",
    "<p style=\"font-size:180%; text-align:center; line-height : 30px;  margin-top : 0; margin-bottom : 0; \"> <br><br>INGENIERIA MECATRONICA</p>\n",
    "<p style=\"font-size:180%; text-align:center; line-height : 30px; margin-top : 0; \"> Facultad de Ingeniería</p>\n",
    "<p style=\"font-size:160%; text-align:center; line-height : 30px; margin-top : 0; \"> Universidad Nacional de Colombia Sede Bogotá</p>\n",
    "<br>\n",
    "<img src=\"fig/Escudo_UN.png\",width=100,height=100>\n",
    "<p style=\"font-size:160%; text-align:center; line-height : 30px; margin-top : 0; \"> <br>05 de mayo de 2022</p>"
   ]
  },
  {
   "cell_type": "markdown",
   "metadata": {},
   "source": [
    "# OpenCV: Normal Bayes Classifier\n",
    "\n",
    "* cv2.ml.NormalBayesClassifier_create() → NormalBayesClassifier object\n",
    "\n",
    "* NormalBayesClassifierObj.train(trainData, layout, responses) → retval\n",
    "\n",
    "* NormalBayesClassifierObj.predict(samples) → retval, results\n",
    "\n",
    "https://docs.opencv.org/4.5.5/d4/d8e/classcv_1_1ml_1_1NormalBayesClassifier.html"
   ]
  },
  {
   "cell_type": "code",
   "execution_count": 2,
   "metadata": {},
   "outputs": [
    {
     "name": "stdout",
     "output_type": "stream",
     "text": [
      "OpenCV Version : 4.5.5 \n"
     ]
    }
   ],
   "source": [
    "%matplotlib inline\n",
    "import cv2\n",
    "from matplotlib import pyplot as plt\n",
    "from matplotlib.colors import ListedColormap\n",
    "import numpy as np\n",
    "import time as t\n",
    "print (\"OpenCV Version : %s \" % cv2.__version__)\n",
    "\n",
    "from scipy import signal\n",
    "from scipy import misc\n",
    "\n",
    "from sklearn import neighbors, datasets"
   ]
  },
  {
   "cell_type": "code",
   "execution_count": 14,
   "metadata": {},
   "outputs": [
    {
     "name": "stdout",
     "output_type": "stream",
     "text": [
      "Muestras\n",
      "[[-3.  7.]\n",
      " [ 1.  5.]\n",
      " [ 1.  2.]\n",
      " [-2.  0.]\n",
      " [ 2.  3.]\n",
      " [-4.  0.]\n",
      " [-1.  1.]\n",
      " [ 1.  1.]\n",
      " [-2.  2.]\n",
      " [ 2.  7.]\n",
      " [-4.  1.]\n",
      " [-2.  7.]]\n",
      "Clases\n",
      "[0 0 0 0 1 0 0 1 0 1 1 1]\n",
      "Clase salida\n",
      "[1 1 1 0 1 0 0 0 0 1 0 1]\n"
     ]
    }
   ],
   "source": [
    "import getopt\n",
    "import sys\n",
    "\n",
    "#samples, responses = load_base('fig/Notebook/Datos.data')\n",
    "samples = np.array([[-3,7],[1,5], [1,2], [-2,0], [2,3], [-4,0], \n",
    "             [-1,1], [1,1], [-2,2], [2,7], [-4,1], [-2,7]])\n",
    "responses = np.array([0, 0, 0, 0, 1, 0, 0, 1, 0, 1, 1, 1])\n",
    "samples = np.float32(samples)\n",
    "#responses = np.float32(responses)\n",
    "a = 0 # Vectores de característica en fila\n",
    "\n",
    "print (\"Muestras\")\n",
    "print (samples)\n",
    "print (\"Clases\")\n",
    "print (responses)\n",
    "#layout=cv2.ml.ROW_SAMPLE\n",
    "\n",
    "# Creación del clasificador\n",
    "Clasificador_NB = cv2.ml.NormalBayesClassifier_create()\n",
    "\n",
    "# Entrenamiento\n",
    "Clasificador_NB.train(samples, a, responses)\n",
    "\n",
    "# Evaluación con muestras de entrenamiento\n",
    "retval, results = Clasificador_NB.predict(samples)\n",
    "\n",
    "print (\"Clase salida\")\n",
    "print (results.ravel())\n"
   ]
  },
  {
   "cell_type": "code",
   "execution_count": 15,
   "metadata": {},
   "outputs": [
    {
     "name": "stdout",
     "output_type": "stream",
     "text": [
      "(180000, 1)\n",
      "(450, 400)\n"
     ]
    },
    {
     "name": "stderr",
     "output_type": "stream",
     "text": [
      "C:\\Users\\JuanLuis\\AppData\\Local\\Temp/ipykernel_5428/2291815850.py:37: MatplotlibDeprecationWarning: shading='flat' when X and Y have the same dimensions as C is deprecated since 3.3.  Either specify the corners of the quadrilaterals with X and Y, or pass shading='auto', 'nearest' or 'gouraud', or set rcParams['pcolor.shading'].  This will become an error two minor releases later.\n",
      "  plt.pcolormesh(xx, yy, Z, cmap=cmap_light)\n"
     ]
    },
    {
     "data": {
      "image/png": "[encoded data removed]",
      "text/plain": [
       "<Figure size 720x360 with 1 Axes>"
      ]
     },
     "metadata": {
      "needs_background": "light"
     },
     "output_type": "display_data"
    }
   ],
   "source": [
    "# VISUALIZACION\n",
    "\n",
    "#Datos\n",
    "X = np.array([[-3,7],[1,5], [1,2], [-2,0], [2,3], [-4,0], \n",
    "             [-1,1], [1,1], [-2,2], [2,7], [-4,1], [-2,7]])\n",
    "\n",
    "X = np.float32(X)\n",
    "\n",
    "#Clases\n",
    "y = np.array([0, 0, 0, 0, 1, 0, 0, 1, 0, 1, 1, 1])\n",
    "y = np.float32(y)\n",
    "\n",
    "# step size in the mesh\n",
    "h = .02  \n",
    "\n",
    "# Create color maps\n",
    "cmap_light = ListedColormap(['#FFAAAA', '#AAFFAA', '#AAAAFF', '#FFFFAA', '#FFAAFF'])\n",
    "cmap_bold = ListedColormap(['#0000FF', '#00FF00', '#FF0000', '#FFFF00', '#FF00FF'])\n",
    "\n",
    "\n",
    "# Plot the decision boundary. For that, we will assign a color to each\n",
    "# point in the mesh [x_min, x_max]x[y_min, y_max].\n",
    "x_min, x_max = X[:, 0].min() - 1, X[:, 0].max() + 1\n",
    "y_min, y_max = X[:, 1].min() - 1, X[:, 1].max() + 1\n",
    "xx, yy = np.meshgrid(np.arange(x_min, x_max, h), np.arange(y_min, y_max, h))\n",
    "\n",
    "samples = np.float32(np.c_[xx.ravel(), yy.ravel()])\n",
    "retval, results = Clasificador_NB.predict(samples)\n",
    "\n",
    "print (results.shape)\n",
    "                                          \n",
    "# Put the result into a color plot\n",
    "Z = results.reshape(xx.shape)\n",
    "print (Z.shape)\n",
    "\n",
    "plt.figure(figsize=(10,5))\n",
    "plt.pcolormesh(xx, yy, Z, cmap=cmap_light)\n",
    "\n",
    "# Plot also the training points\n",
    "plt.scatter(X[:, 0], X[:, 1], c=y, cmap=cmap_bold)\n",
    "plt.xlim(xx.min(), xx.max())\n",
    "plt.ylim(yy.min(), yy.max())\n",
    "plt.title(\"Normal Bayes Classifier\")\n",
    "\n",
    "plt.show()\n"
   ]
  },
  {
   "cell_type": "markdown",
   "metadata": {},
   "source": [
    "# OpenCV: KNearest Classifier\n",
    "\n",
    "\n",
    "\n",
    "* cv2.ml.KNearest.train(trainData, layout, responses) → retva\n",
    "\n",
    "* KNearestClasifier.findNearest(samples, k) → retval, results, neighborResponses, dists\n",
    "\n",
    "https://docs.opencv.org/4.5.5/dd/de1/classcv_1_1ml_1_1KNearest.html"
   ]
  },
  {
   "cell_type": "code",
   "execution_count": 3,
   "metadata": {},
   "outputs": [
    {
     "name": "stdout",
     "output_type": "stream",
     "text": [
      "samples\n",
      "[[-3.  7.]\n",
      " [ 1.  5.]\n",
      " [ 1.  2.]\n",
      " [-2.  0.]\n",
      " [ 2.  3.]\n",
      " [-4.  0.]\n",
      " [-1.  1.]\n",
      " [ 1.  1.]\n",
      " [-2.  2.]\n",
      " [ 2.  7.]\n",
      " [-4.  1.]\n",
      " [-2.  7.]]\n",
      "responses\n",
      "[0. 0. 0. 0. 1. 0. 0. 1. 0. 1. 1. 1.]\n",
      "Results\n",
      "[0. 0. 0. 0. 1. 0. 0. 1. 0. 1. 1. 1.]\n"
     ]
    }
   ],
   "source": [
    "import getopt\n",
    "import sys\n",
    "\n",
    "#samples, responses = load_base('fig/Notebook/Datos.data')\n",
    "samples = np.array([[-3.0,7.0],[1.0,5.0], [1.0,2.0], [-2.0,0.0], [2.0,3.0], [-4.0,0.0], \n",
    "             [-1.0,1.0], [1.0,1.0], [-2.0,2.0], [2.0,7.0], [-4.0,1.0], [-2.0,7.0]])\n",
    "responses = np.array([0.0, 0.0, 0.0, 0.0, 1.0, 0.0, 0.0, 1.0, 0.0, 1.0, 1.0, 1.0])\n",
    "samples = np.float32(samples)\n",
    "responses = np.float32(responses)\n",
    "\n",
    "print (\"samples\")\n",
    "print (samples)\n",
    "print (\"responses\")\n",
    "print (responses)\n",
    "\n",
    "Clasificador_KNN = cv2.ml.KNearest_create()\n",
    "\n",
    "#train\n",
    "Clasificador_KNN.train(samples, cv2.ml.ROW_SAMPLE, responses)\n",
    "\n",
    "#predict(self, samples):\n",
    "retval, results, neigh_resp, dists = Clasificador_KNN.findNearest(samples, k = 1)\n",
    "\n",
    "print (\"Results\")\n",
    "print (results.ravel())\n"
   ]
  },
  {
   "cell_type": "code",
   "execution_count": 12,
   "metadata": {},
   "outputs": [
    {
     "name": "stdout",
     "output_type": "stream",
     "text": [
      "(180000, 1)\n",
      "(450, 400)\n"
     ]
    },
    {
     "name": "stderr",
     "output_type": "stream",
     "text": [
      "C:\\Users\\JuanLuis\\AppData\\Local\\Temp/ipykernel_1768/1556037054.py:49: MatplotlibDeprecationWarning: shading='flat' when X and Y have the same dimensions as C is deprecated since 3.3.  Either specify the corners of the quadrilaterals with X and Y, or pass shading='auto', 'nearest' or 'gouraud', or set rcParams['pcolor.shading'].  This will become an error two minor releases later.\n",
      "  plt.pcolormesh(xx, yy, Z, cmap=cmap_light)\n"
     ]
    },
    {
     "data": {
      "image/png": "[encoded data removed]",
      "text/plain": [
       "<Figure size 720x360 with 1 Axes>"
      ]
     },
     "metadata": {
      "needs_background": "light"
     },
     "output_type": "display_data"
    }
   ],
   "source": [
    "#Datos\n",
    "X = np.array([[-3,7],[1,5], [1,2], [-2,0], [2,3], [-4,0], \n",
    "             [-1,1], [1,1], [-2,2], [2,7], [-4,1], [-2,7]])\n",
    "\n",
    "X = np.float32(X)\n",
    "\n",
    "#Clases\n",
    "y = np.array([0, 0, 0, 0, 1, 0, 0, 1, 0, 1, 1, 1])\n",
    "y = np.float32(y) \n",
    "\n",
    "#Clasificador\n",
    "Clasificador_KNN = cv2.ml.KNearest_create()\n",
    "Clasificador_KNN.train(X, cv2.ml.ROW_SAMPLE, y)\n",
    "\n",
    "\n",
    "\n",
    "# VISUALIZACION\n",
    "# step size in the mesh\n",
    "h = .02  \n",
    "\n",
    "# Create color maps\n",
    "cmap_light = ListedColormap(['#FFAAAA', '#AAFFAA', '#AAAAFF', '#FFFFAA', '#FFAAFF'])\n",
    "cmap_bold = ListedColormap(['#0000FF', '#00FF00', '#FF0000', '#FFFF00', '#FF00FF'])\n",
    "\n",
    "\n",
    "\n",
    "# we create an instance of Neighbours Classifier and fit the data.\n",
    "#clf = neighbors.KNeighborsClassifier(n_neighbors, weights='uniform')\n",
    "#clf.fit(X, y)\n",
    "\n",
    "\n",
    "# Plot the decision boundary. For that, we will assign a color to each\n",
    "# point in the mesh [x_min, x_max]x[y_min, y_max].\n",
    "x_min, x_max = X[:, 0].min() - 1, X[:, 0].max() + 1\n",
    "y_min, y_max = X[:, 1].min() - 1, X[:, 1].max() + 1\n",
    "xx, yy = np.meshgrid(np.arange(x_min, x_max, h), np.arange(y_min, y_max, h))\n",
    "\n",
    "\n",
    "samples = np.float32(np.c_[xx.ravel(), yy.ravel()])\n",
    "retval, results, neigh_resp, dists = Clasificador_KNN.findNearest(samples, k = 1)\n",
    "\n",
    "print (results.shape)\n",
    "                                          \n",
    "# Put the result into a color plot\n",
    "Z = results.reshape(xx.shape)\n",
    "print (Z.shape)\n",
    "\n",
    "plt.figure(figsize=(10,5))\n",
    "plt.pcolormesh(xx, yy, Z, cmap=cmap_light)\n",
    "\n",
    "# Plot also the training points\n",
    "plt.scatter(X[:, 0], X[:, 1], c=y, cmap=cmap_bold)\n",
    "plt.xlim(xx.min(), xx.max())\n",
    "plt.ylim(yy.min(), yy.max())\n",
    "plt.title(\"K-Neighbors Classifier\")\n",
    "\n",
    "plt.show()\n"
   ]
  },
  {
   "cell_type": "code",
   "execution_count": null,
   "metadata": {},
   "outputs": [],
   "source": []
  }
 ],
 "metadata": {
  "anaconda-cloud": {},
  "kernelspec": {
   "display_name": "Python 3.10.5 64-bit (windows store)",
   "language": "python",
   "name": "python3"
  },
  "language_info": {
   "codemirror_mode": {
    "name": "ipython",
    "version": 3
   },
   "file_extension": ".py",
   "mimetype": "text/x-python",
   "name": "python",
   "nbconvert_exporter": "python",
   "pygments_lexer": "ipython3",
   "version": "3.10.5"
  },
  "vscode": {
   "interpreter": {
    "hash": "65dd8c776b61476d4b1f0afe884cc86eb80e994e3d5e7d70343b37e3ecb9f722"
   }
  }
 },
 "nbformat": 4,
 "nbformat_minor": 1
}
