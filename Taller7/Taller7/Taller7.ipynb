{
 "cells": [
  {
   "cell_type": "markdown",
   "metadata": {},
   "source": [
    "<p style=\"font-size:300%; background-color:pink; color:blue; text-align:center;line-height : 80px; margin : 0; padding : 0;\">\n",
    "Taller 7 TIA</p>\n",
    "<p style=\"font-size:240%; background-color:pink; color:red; text-align:center;line-height : 60px; margin : 0; padding : 0;\">\n",
    "Técnicas de Inteligencia Artificial - Visión de Máquina</p1>\n",
    "\n",
    "<p style=\"font-size:200%; text-align:center; line-height : 40px;  margin-top : 0; margin-bottom : 0; \"> <br>Jose Eduardo Garnica Aza - Johan Sebastian Suarez Sepulveda</p>\n",
    "<p style=\"font-size:160%; text-align:center; line-height : 20px; margin-top : 0; \"> email: jgarnicaa@unal.edu.co email: jssuarezse@unal.edu.co</p>\n",
    "<p style=\"font-size:180%; text-align:center; line-height : 30px;  margin-top : 0; margin-bottom : 0; \"> <br><br>INGENIERÍA MECATRÓNICA</p>\n",
    "<p style=\"font-size:180%; text-align:center; line-height : 30px; margin-top : 0; \"> Facultad de Ingeniería</p>\n",
    "<p style=\"font-size:160%; text-align:center; line-height : 30px; margin-top : 0; \"> Universidad Nacional de Colombia Sede Bogotá</p>\n",
    "<br>\n",
    "<img src=\"Integrantes.png\",width=10,height=10>\n",
    "<p style=\"font-size:160%; text-align:center; line-height : 30px; margin-top : 0; \"> <br>4 de mayo de 2022</p>"
   ]
  },
  {
   "cell_type": "markdown",
   "metadata": {
    "vscode": {
     "languageId": "plaintext"
    }
   },
   "source": [
    "## Diseño de redes neuronales con libreria SciKit\n",
    "\n",
    "En este caso se hará una red neuronal de perceptrón multicapa que será capaz de procesar datos de una manera óptima, por una parte siguiendo la guía se implementarán en un vector de características para ver cómo se comporta, posteriormente se comparará con las técnicas vistas en clase para ver cual es más eficiente en términos de precisión, tiempo, entre otros aspectos. \n",
    "\n",
    "- Se sigue la guía dada para el desarrollo del taller."
   ]
  },
  {
   "cell_type": "code",
   "execution_count": 1,
   "metadata": {},
   "outputs": [],
   "source": [
    "#librerias\n",
    "%matplotlib inline\n",
    "\n",
    "from PIL import Image\n",
    "import matplotlib.pyplot as plt\n",
    "import matplotlib.gridspec as gridspec\n",
    "from matplotlib.colors import ListedColormap\n",
    "import numpy as np \n",
    "import math as m\n",
    "import time\n",
    "import timeit as tm\n",
    "import cv2 as cv\n",
    "import pandas as pd\n",
    "from pylab import plot,subplot,axis,stem,show,figure\n",
    "from numpy import mean,cov,double,cumsum,dot,linalg,array\n",
    "import os\n",
    "from scipy import signal\n",
    "from scipy import misc\n",
    "\n",
    "from sklearn import neighbors, datasets\n",
    "\n",
    "import sklearn\n",
    "from sklearn.neural_network import MLPClassifier\n",
    "from sklearn.neural_network import MLPRegressor\n",
    "\n",
    "# Import necessary modules\n",
    "from sklearn.model_selection import train_test_split\n",
    "from sklearn.metrics import mean_squared_error\n",
    "from math import sqrt\n",
    "from sklearn.metrics import r2_score\n",
    "from sklearn.metrics import classification_report,confusion_matrix"
   ]
  },
  {
   "cell_type": "code",
   "execution_count": 2,
   "metadata": {},
   "outputs": [
    {
     "name": "stdout",
     "output_type": "stream",
     "text": [
      "(401, 5)\n"
     ]
    },
    {
     "data": {
      "text/html": [
       "<div>\n",
       "<style scoped>\n",
       "    .dataframe tbody tr th:only-of-type {\n",
       "        vertical-align: middle;\n",
       "    }\n",
       "\n",
       "    .dataframe tbody tr th {\n",
       "        vertical-align: top;\n",
       "    }\n",
       "\n",
       "    .dataframe thead th {\n",
       "        text-align: right;\n",
       "    }\n",
       "</style>\n",
       "<table border=\"1\" class=\"dataframe\">\n",
       "  <thead>\n",
       "    <tr style=\"text-align: right;\">\n",
       "      <th></th>\n",
       "      <th>count</th>\n",
       "      <th>mean</th>\n",
       "      <th>std</th>\n",
       "      <th>min</th>\n",
       "      <th>25%</th>\n",
       "      <th>50%</th>\n",
       "      <th>75%</th>\n",
       "      <th>max</th>\n",
       "    </tr>\n",
       "  </thead>\n",
       "  <tbody>\n",
       "    <tr>\n",
       "      <th>Coordenada X1</th>\n",
       "      <td>401.0</td>\n",
       "      <td>2024.670823</td>\n",
       "      <td>1211.244161</td>\n",
       "      <td>1.0</td>\n",
       "      <td>958.0</td>\n",
       "      <td>1999.0</td>\n",
       "      <td>3177.0</td>\n",
       "      <td>3994.0</td>\n",
       "    </tr>\n",
       "    <tr>\n",
       "      <th>Coordenada X2</th>\n",
       "      <td>401.0</td>\n",
       "      <td>2018.985037</td>\n",
       "      <td>1115.930002</td>\n",
       "      <td>82.0</td>\n",
       "      <td>1150.0</td>\n",
       "      <td>1998.0</td>\n",
       "      <td>2971.0</td>\n",
       "      <td>4000.0</td>\n",
       "    </tr>\n",
       "    <tr>\n",
       "      <th>Coordenada Y1</th>\n",
       "      <td>401.0</td>\n",
       "      <td>1530.443890</td>\n",
       "      <td>822.224284</td>\n",
       "      <td>21.0</td>\n",
       "      <td>885.0</td>\n",
       "      <td>1530.0</td>\n",
       "      <td>2217.0</td>\n",
       "      <td>2994.0</td>\n",
       "    </tr>\n",
       "    <tr>\n",
       "      <th>Coordenada Y2</th>\n",
       "      <td>401.0</td>\n",
       "      <td>1490.860349</td>\n",
       "      <td>885.122769</td>\n",
       "      <td>4.0</td>\n",
       "      <td>706.0</td>\n",
       "      <td>1486.0</td>\n",
       "      <td>2237.0</td>\n",
       "      <td>3000.0</td>\n",
       "    </tr>\n",
       "    <tr>\n",
       "      <th>Voto a</th>\n",
       "      <td>401.0</td>\n",
       "      <td>0.498753</td>\n",
       "      <td>0.500623</td>\n",
       "      <td>0.0</td>\n",
       "      <td>0.0</td>\n",
       "      <td>0.0</td>\n",
       "      <td>1.0</td>\n",
       "      <td>1.0</td>\n",
       "    </tr>\n",
       "  </tbody>\n",
       "</table>\n",
       "</div>"
      ],
      "text/plain": [
       "               count         mean          std   min     25%     50%     75%  \\\n",
       "Coordenada X1  401.0  2024.670823  1211.244161   1.0   958.0  1999.0  3177.0   \n",
       "Coordenada X2  401.0  2018.985037  1115.930002  82.0  1150.0  1998.0  2971.0   \n",
       "Coordenada Y1  401.0  1530.443890   822.224284  21.0   885.0  1530.0  2217.0   \n",
       "Coordenada Y2  401.0  1490.860349   885.122769   4.0   706.0  1486.0  2237.0   \n",
       "Voto a         401.0     0.498753     0.500623   0.0     0.0     0.0     1.0   \n",
       "\n",
       "                  max  \n",
       "Coordenada X1  3994.0  \n",
       "Coordenada X2  4000.0  \n",
       "Coordenada Y1  2994.0  \n",
       "Coordenada Y2  3000.0  \n",
       "Voto a            1.0  "
      ]
     },
     "execution_count": 2,
     "metadata": {},
     "output_type": "execute_result"
    }
   ],
   "source": [
    "#Importación de data\n",
    "df = pd.read_csv('Votos.csv') \n",
    "print(df.shape)\n",
    "df.describe().transpose()"
   ]
  },
  {
   "cell_type": "code",
   "execution_count": 3,
   "metadata": {},
   "outputs": [
    {
     "data": {
      "text/html": [
       "<div>\n",
       "<style scoped>\n",
       "    .dataframe tbody tr th:only-of-type {\n",
       "        vertical-align: middle;\n",
       "    }\n",
       "\n",
       "    .dataframe tbody tr th {\n",
       "        vertical-align: top;\n",
       "    }\n",
       "\n",
       "    .dataframe thead th {\n",
       "        text-align: right;\n",
       "    }\n",
       "</style>\n",
       "<table border=\"1\" class=\"dataframe\">\n",
       "  <thead>\n",
       "    <tr style=\"text-align: right;\">\n",
       "      <th></th>\n",
       "      <th>count</th>\n",
       "      <th>mean</th>\n",
       "      <th>std</th>\n",
       "      <th>min</th>\n",
       "      <th>25%</th>\n",
       "      <th>50%</th>\n",
       "      <th>75%</th>\n",
       "      <th>max</th>\n",
       "    </tr>\n",
       "  </thead>\n",
       "  <tbody>\n",
       "    <tr>\n",
       "      <th>Coordenada X1</th>\n",
       "      <td>401.0</td>\n",
       "      <td>0.506928</td>\n",
       "      <td>0.303266</td>\n",
       "      <td>0.000250</td>\n",
       "      <td>0.239860</td>\n",
       "      <td>0.500501</td>\n",
       "      <td>0.795443</td>\n",
       "      <td>1.0</td>\n",
       "    </tr>\n",
       "    <tr>\n",
       "      <th>Coordenada X2</th>\n",
       "      <td>401.0</td>\n",
       "      <td>0.504746</td>\n",
       "      <td>0.278983</td>\n",
       "      <td>0.020500</td>\n",
       "      <td>0.287500</td>\n",
       "      <td>0.499500</td>\n",
       "      <td>0.742750</td>\n",
       "      <td>1.0</td>\n",
       "    </tr>\n",
       "    <tr>\n",
       "      <th>Coordenada Y1</th>\n",
       "      <td>401.0</td>\n",
       "      <td>0.511170</td>\n",
       "      <td>0.274624</td>\n",
       "      <td>0.007014</td>\n",
       "      <td>0.295591</td>\n",
       "      <td>0.511022</td>\n",
       "      <td>0.740481</td>\n",
       "      <td>1.0</td>\n",
       "    </tr>\n",
       "    <tr>\n",
       "      <th>Coordenada Y2</th>\n",
       "      <td>401.0</td>\n",
       "      <td>0.496953</td>\n",
       "      <td>0.295041</td>\n",
       "      <td>0.001333</td>\n",
       "      <td>0.235333</td>\n",
       "      <td>0.495333</td>\n",
       "      <td>0.745667</td>\n",
       "      <td>1.0</td>\n",
       "    </tr>\n",
       "    <tr>\n",
       "      <th>Voto a</th>\n",
       "      <td>401.0</td>\n",
       "      <td>0.498753</td>\n",
       "      <td>0.500623</td>\n",
       "      <td>0.000000</td>\n",
       "      <td>0.000000</td>\n",
       "      <td>0.000000</td>\n",
       "      <td>1.000000</td>\n",
       "      <td>1.0</td>\n",
       "    </tr>\n",
       "  </tbody>\n",
       "</table>\n",
       "</div>"
      ],
      "text/plain": [
       "               count      mean       std       min       25%       50%  \\\n",
       "Coordenada X1  401.0  0.506928  0.303266  0.000250  0.239860  0.500501   \n",
       "Coordenada X2  401.0  0.504746  0.278983  0.020500  0.287500  0.499500   \n",
       "Coordenada Y1  401.0  0.511170  0.274624  0.007014  0.295591  0.511022   \n",
       "Coordenada Y2  401.0  0.496953  0.295041  0.001333  0.235333  0.495333   \n",
       "Voto a         401.0  0.498753  0.500623  0.000000  0.000000  0.000000   \n",
       "\n",
       "                    75%  max  \n",
       "Coordenada X1  0.795443  1.0  \n",
       "Coordenada X2  0.742750  1.0  \n",
       "Coordenada Y1  0.740481  1.0  \n",
       "Coordenada Y2  0.745667  1.0  \n",
       "Voto a         1.000000  1.0  "
      ]
     },
     "execution_count": 3,
     "metadata": {},
     "output_type": "execute_result"
    }
   ],
   "source": [
    "#Normalización de datos\n",
    "target_column = ['Voto a'] \n",
    "predictors = list(set(list(df.columns))-set(target_column))\n",
    "df[predictors] = df[predictors]/df[predictors].max()\n",
    "df.describe().transpose()"
   ]
  },
  {
   "cell_type": "code",
   "execution_count": 4,
   "metadata": {},
   "outputs": [
    {
     "name": "stdout",
     "output_type": "stream",
     "text": [
      "(280, 4)\n",
      "(121, 4)\n",
      "(280, 1)\n"
     ]
    }
   ],
   "source": [
    "#Crea el entrenamiento y el test para datasets\n",
    "X = df[predictors].values\n",
    "y = df[target_column].values\n",
    "\n",
    "X_train, X_test, y_train, y_test = train_test_split(X, y, test_size=0.3, random_state=40)\n",
    "print(X_train.shape); print(X_test.shape); print(y_train.shape)"
   ]
  },
  {
   "cell_type": "code",
   "execution_count": 5,
   "metadata": {},
   "outputs": [
    {
     "name": "stderr",
     "output_type": "stream",
     "text": [
      "C:\\Users\\jgarn\\AppData\\Local\\Packages\\PythonSoftwareFoundation.Python.3.10_qbz5n2kfra8p0\\LocalCache\\local-packages\\Python310\\site-packages\\sklearn\\neural_network\\_multilayer_perceptron.py:1109: DataConversionWarning: A column-vector y was passed when a 1d array was expected. Please change the shape of y to (n_samples, ), for example using ravel().\n",
      "  y = column_or_1d(y, warn=True)\n",
      "C:\\Users\\jgarn\\AppData\\Local\\Packages\\PythonSoftwareFoundation.Python.3.10_qbz5n2kfra8p0\\LocalCache\\local-packages\\Python310\\site-packages\\sklearn\\neural_network\\_multilayer_perceptron.py:692: ConvergenceWarning: Stochastic Optimizer: Maximum iterations (500) reached and the optimization hasn't converged yet.\n",
      "  warnings.warn(\n"
     ]
    }
   ],
   "source": [
    "#Crea y evalua el modelo de red neuronal\n",
    "#Para calcular el número de neuronas de la capa oculta, utilizaremos la regla de 2/3, en este caso tenemos 4 entradas y 2\n",
    "#salidas por lo tanto la regla nos dice que son 8/3 de neuronas o aproximadamente 2 neuronas por capa.\n",
    "mlp = MLPClassifier(hidden_layer_sizes=(2,2), activation='relu', solver='adam', max_iter=500)\n",
    "mlp.fit(X_train,y_train)\n",
    "\n",
    "predict_train = mlp.predict(X_train)\n",
    "predict_test = mlp.predict(X_test)"
   ]
  },
  {
   "cell_type": "code",
   "execution_count": 6,
   "metadata": {},
   "outputs": [
    {
     "name": "stdout",
     "output_type": "stream",
     "text": [
      "[[136   0]\n",
      " [  0 144]]\n",
      "              precision    recall  f1-score   support\n",
      "\n",
      "           0       1.00      1.00      1.00       136\n",
      "           1       1.00      1.00      1.00       144\n",
      "\n",
      "    accuracy                           1.00       280\n",
      "   macro avg       1.00      1.00      1.00       280\n",
      "weighted avg       1.00      1.00      1.00       280\n",
      "\n"
     ]
    }
   ],
   "source": [
    "#Matriz de confusión para ver porcentaje de eficacia\n",
    "print(confusion_matrix(y_train,predict_train))\n",
    "print(classification_report(y_train,predict_train))"
   ]
  },
  {
   "cell_type": "markdown",
   "metadata": {},
   "source": [
    "Como se ve en la matriz de confusión, la precisión de datos en los 280 que eran de entrenamiento fue de 25% esto es debido a que el modelo de red neuronal no contenía la cantidad de capas y neuronas ocultas necesaria, a continuación se ven los datos de test y se encuentran resultados parecidos."
   ]
  },
  {
   "cell_type": "code",
   "execution_count": 7,
   "metadata": {},
   "outputs": [
    {
     "name": "stdout",
     "output_type": "stream",
     "text": [
      "[[65  0]\n",
      " [ 0 56]]\n",
      "              precision    recall  f1-score   support\n",
      "\n",
      "           0       1.00      1.00      1.00        65\n",
      "           1       1.00      1.00      1.00        56\n",
      "\n",
      "    accuracy                           1.00       121\n",
      "   macro avg       1.00      1.00      1.00       121\n",
      "weighted avg       1.00      1.00      1.00       121\n",
      "\n"
     ]
    }
   ],
   "source": [
    "print(confusion_matrix(y_test,predict_test))\n",
    "print(classification_report(y_test,predict_test))"
   ]
  },
  {
   "cell_type": "markdown",
   "metadata": {},
   "source": [
    "Para arreglar este problema se varían los parametros de capas ocultas y neuronas ocultas y se vuelve a evaluar cada matriz de confusión, como se ve a continucación"
   ]
  },
  {
   "cell_type": "code",
   "execution_count": 8,
   "metadata": {},
   "outputs": [
    {
     "name": "stderr",
     "output_type": "stream",
     "text": [
      "C:\\Users\\jgarn\\AppData\\Local\\Packages\\PythonSoftwareFoundation.Python.3.10_qbz5n2kfra8p0\\LocalCache\\local-packages\\Python310\\site-packages\\sklearn\\neural_network\\_multilayer_perceptron.py:1109: DataConversionWarning: A column-vector y was passed when a 1d array was expected. Please change the shape of y to (n_samples, ), for example using ravel().\n",
      "  y = column_or_1d(y, warn=True)\n",
      "C:\\Users\\jgarn\\AppData\\Local\\Packages\\PythonSoftwareFoundation.Python.3.10_qbz5n2kfra8p0\\LocalCache\\local-packages\\Python310\\site-packages\\sklearn\\neural_network\\_multilayer_perceptron.py:692: ConvergenceWarning: Stochastic Optimizer: Maximum iterations (500) reached and the optimization hasn't converged yet.\n",
      "  warnings.warn(\n"
     ]
    }
   ],
   "source": [
    "#Crea y evalua el modelo de red neuronal\n",
    "#Debido a que no funcionó correctamente se varian los parametros hasta que se vea una precisión mayor al 90%\n",
    "mlp = MLPClassifier(hidden_layer_sizes=(3,3), activation='relu', solver='adam', max_iter=500)\n",
    "mlp.fit(X_train,y_train)\n",
    "\n",
    "predict_train = mlp.predict(X_train)\n",
    "predict_test = mlp.predict(X_test)"
   ]
  },
  {
   "cell_type": "code",
   "execution_count": 9,
   "metadata": {},
   "outputs": [
    {
     "name": "stdout",
     "output_type": "stream",
     "text": [
      "[[136   0]\n",
      " [  5 139]]\n",
      "              precision    recall  f1-score   support\n",
      "\n",
      "           0       0.96      1.00      0.98       136\n",
      "           1       1.00      0.97      0.98       144\n",
      "\n",
      "    accuracy                           0.98       280\n",
      "   macro avg       0.98      0.98      0.98       280\n",
      "weighted avg       0.98      0.98      0.98       280\n",
      "\n"
     ]
    }
   ],
   "source": [
    "#Matriz de confusión para ver porcentaje de eficacia\n",
    "print(confusion_matrix(y_train,predict_train))\n",
    "print(classification_report(y_train,predict_train))"
   ]
  },
  {
   "cell_type": "code",
   "execution_count": 10,
   "metadata": {},
   "outputs": [
    {
     "name": "stdout",
     "output_type": "stream",
     "text": [
      "[[65  0]\n",
      " [ 3 53]]\n",
      "              precision    recall  f1-score   support\n",
      "\n",
      "           0       0.96      1.00      0.98        65\n",
      "           1       1.00      0.95      0.97        56\n",
      "\n",
      "    accuracy                           0.98       121\n",
      "   macro avg       0.98      0.97      0.97       121\n",
      "weighted avg       0.98      0.98      0.98       121\n",
      "\n"
     ]
    }
   ],
   "source": [
    "print(confusion_matrix(y_test,predict_test))\n",
    "print(classification_report(y_test,predict_test))"
   ]
  },
  {
   "cell_type": "markdown",
   "metadata": {},
   "source": [
    "Finalmente se ve que con 3 capas y 3 neuronas ocultas se obtiene un resultado satisfactorio con una precisión y un puntaje f1 mayor al 90% para datos de entrenamiento como para datos de test."
   ]
  },
  {
   "cell_type": "markdown",
   "metadata": {},
   "source": [
    "## Comparativa con métodos usados en clase\n",
    "\n",
    "- Perceptrón :\n",
    "    * Función de Activación: Escalón unitario\n",
    "    * Error: $\\varepsilon = \\bar{y} - y$,   "
   ]
  },
  {
   "cell_type": "code",
   "execution_count": 37,
   "metadata": {},
   "outputs": [
    {
     "name": "stdout",
     "output_type": "stream",
     "text": [
      "[[3701 2298  668 1169]\n",
      " [2631 3451 2443  311]\n",
      " [ 878  655 2582  396]\n",
      " [ 907 1747 2214 1802]]\n",
      "[[1.]\n",
      " [1.]\n",
      " [0.]\n",
      " [0.]]\n"
     ]
    },
    {
     "data": {
      "text/plain": [
       "<matplotlib.collections.PathCollection at 0x217ef4581c0>"
      ]
     },
     "execution_count": 37,
     "metadata": {},
     "output_type": "execute_result"
    },
    {
     "data": {
      "image/png": "[encoded data removed]",
      "text/plain": [
       "<Figure size 432x288 with 1 Axes>"
      ]
     },
     "metadata": {
      "needs_background": "light"
     },
     "output_type": "display_data"
    }
   ],
   "source": [
    "#Definición de los datos a usar\n",
    "#   Se define unos vectores de caracteristicas similares a los del proyecto \n",
    "\n",
    "X = np.array([  [3701,2298,668,1169],\n",
    "                [2631,3451,2443,311],\n",
    "                [878,655,2582,396],\n",
    "                [907,1747,2214,1802] ])\n",
    "\n",
    "\n",
    "y = np.array([[1.0,1.0,0.0,0.0]]).T\n",
    "\n",
    "print (X)\n",
    "print (y)\n",
    "\n",
    "x_min, x_max = X[:, 0].min() - .5, X[:, 0].max() + .5\n",
    "y_min, y_max = X[:, 1].min() - .5, X[:, 1].max() + .5\n",
    "\n",
    "plt.scatter(X[:,0], X[:,1])"
   ]
  },
  {
   "cell_type": "code",
   "execution_count": 38,
   "metadata": {},
   "outputs": [
    {
     "name": "stdout",
     "output_type": "stream",
     "text": [
      "\n",
      "W\n",
      "[-2.04071528e+21 -3.93069705e+21 -4.98140935e+21 -4.05444914e+21]\n",
      "\n",
      "Epocas\n",
      "99\n"
     ]
    },
    {
     "data": {
      "text/plain": [
       "[<matplotlib.lines.Line2D at 0x217ef5c7160>]"
      ]
     },
     "execution_count": 38,
     "metadata": {},
     "output_type": "execute_result"
    },
    {
     "data": {
      "image/png": "[encoded data removed]",
      "text/plain": [
       "<Figure size 432x288 with 1 Axes>"
      ]
     },
     "metadata": {
      "needs_background": "light"
     },
     "output_type": "display_data"
    }
   ],
   "source": [
    "np.random.seed(1)\n",
    "\n",
    "for j in range(100):\n",
    "    \n",
    "    Nerrors = 0\n",
    "    #=========================\n",
    "    #PASO 2\n",
    "    for m in range(X.shape[0]):\n",
    "        net = np.dot(X[m],W)\n",
    "    #=========================\n",
    "    #PASO 3\n",
    "        if net > 0: y_cal = 1\n",
    "        else: y_cal = 0\n",
    "    #=========================\n",
    "    #PASO 4\n",
    "        error = y[m] - y_cal\n",
    "        Delta = error*X[m]\n",
    "        # update weights\n",
    "        W = W + Delta.T      \n",
    "        if error != 0: \n",
    "            Nerrors = Nerrors+1\n",
    "    if Nerrors == 0: \n",
    "        break\n",
    "    #===========================================\n",
    "    #===========================================\n",
    "\n",
    "print (\"\\nW\");     print (W)\n",
    "print (\"\\nEpocas\")\n",
    "print (j)\n",
    "y_min = (-W[0]*x_min - W[2])/W[1]\n",
    "y_max = (-W[0]*x_max - W[2])/W[1]\n",
    "\n",
    "plt.scatter(X[:,0], X[:,1])\n",
    "#plt.scatter(X[:,0], X[:,1], s=40, c=y, cmap=plt.cm.Spectral)\n",
    "plt.plot([x_min, x_max], [y_min, y_max], c='g', lw=2)"
   ]
  },
  {
   "cell_type": "markdown",
   "metadata": {},
   "source": [
    "- ADALINE\n",
    "\n",
    "    * Función de Activación: Identidad o función lineal\n",
    "    * Error: $\\varepsilon = \\frac{1}{2}(\\bar{y}-y)^2$, "
   ]
  },
  {
   "cell_type": "code",
   "execution_count": 39,
   "metadata": {},
   "outputs": [
    {
     "name": "stdout",
     "output_type": "stream",
     "text": [
      "\n",
      "W0:\n",
      "[-0.99165956 -0.98559351 -0.99999771 -0.99395335]\n",
      "\n",
      "------------------\n",
      "m: 0\n",
      "y_cal\n",
      "-7764.955853897622\n",
      "error\n",
      "[7765.9558539]\n",
      "Delta\n",
      "[574836.0523055  356923.33104513 103753.17020807 181568.04786413]\n",
      "W\n",
      "[574835.06064594 356922.34545162 103752.17021036 181567.05391078]\n",
      "\n",
      "------------------\n",
      "m: 1\n",
      "y_cal\n",
      "3054063964.3031907\n",
      "error\n",
      "[-3.05406396e+09]\n",
      "Delta\n",
      "[-1.60704846e+11 -2.10791495e+11 -1.49221565e+11 -1.89962779e+10]\n",
      "W\n",
      "[-1.60704271e+11 -2.10791138e+11 -1.49221461e+11 -1.89960963e+10]\n",
      "\n",
      "------------------\n",
      "m: 2\n",
      "y_cal\n",
      "-671978812846094.5\n",
      "error\n",
      "[6.71978813e+14]\n",
      "Delta\n",
      "[1.17999480e+16 8.80292245e+15 3.47009859e+16 5.32207220e+15]\n",
      "W\n",
      "[1.17997872e+16 8.80271166e+15 3.47008367e+16 5.32205320e+15]\n",
      "\n",
      "------------------\n",
      "m: 3\n",
      "y_cal\n",
      "1.1249873656555756e+20\n",
      "error\n",
      "[-1.12498737e+20]\n",
      "Delta\n",
      "[-2.04072708e+21 -3.93070586e+21 -4.98144406e+21 -4.05445447e+21]\n",
      "W\n",
      "[-2.04071528e+21 -3.93069705e+21 -4.98140935e+21 -4.05444914e+21]\n"
     ]
    },
    {
     "data": {
      "text/plain": [
       "[<matplotlib.lines.Line2D at 0x217ef5ad390>]"
      ]
     },
     "execution_count": 39,
     "metadata": {},
     "output_type": "execute_result"
    },
    {
     "data": {
      "image/png": "[encoded data removed]",
      "text/plain": [
       "<Figure size 432x288 with 1 Axes>"
      ]
     },
     "metadata": {
      "needs_background": "light"
     },
     "output_type": "display_data"
    }
   ],
   "source": [
    "# seed random numbers to make calculation\n",
    "# deterministic (just a good practice)\n",
    "np.random.seed(1)\n",
    "\n",
    "# PASO 1\n",
    "W = 0.02*np.random.random((X.shape[1])) - 1\n",
    "print (\"\\nW0:\"); print (W)\n",
    "\n",
    "#a: VALOR CRITICO\n",
    "a = 0.02\n",
    "#=========================\n",
    "\n",
    "for m in range(X.shape[0]):\n",
    "    print (\"\\n------------------\\nm: %d\" %m)\n",
    "    y_cal = np.dot(X[m],W)\n",
    "    print (\"y_cal\"); print (y_cal)\n",
    "\n",
    "#=========================\n",
    "#PASO 3\n",
    "    \n",
    "    error = y[m] - y_cal\n",
    "    print (\"error\");     print (error)\n",
    "    Delta = a*error*X[m]\n",
    "    print (\"Delta\");     print (Delta)\n",
    "\n",
    "#=========================\n",
    "#PASO 4\n",
    "\n",
    "    # update weights\n",
    "    W = W + Delta\n",
    "    print (\"W\");     print (W)\n",
    "\n",
    "#===========================================\n",
    "#===========================================\n",
    "\n",
    "y_min = (-W[0]*x_min - W[2])/W[1]\n",
    "y_max = (-W[0]*x_max - W[2])/W[1]\n",
    "\n",
    "plt.scatter(X[:,0], X[:,1], s=40, c=y, cmap=plt.cm.Spectral)\n",
    "plt.plot([x_min, x_max], [y_min, y_max], c='g', lw=2)\n"
   ]
  },
  {
   "cell_type": "markdown",
   "metadata": {},
   "source": [
    "# Implementacion de una red neuronal de dos capas\n"
   ]
  },
  {
   "cell_type": "code",
   "execution_count": 40,
   "metadata": {},
   "outputs": [
    {
     "name": "stdout",
     "output_type": "stream",
     "text": [
      "Output After Training:\n",
      "[[0.]\n",
      " [0.]\n",
      " [0.]\n",
      " [0.]]\n"
     ]
    },
    {
     "name": "stderr",
     "output_type": "stream",
     "text": [
      "C:\\Users\\jssua\\AppData\\Local\\Temp\\ipykernel_11088\\298557516.py:5: RuntimeWarning: overflow encountered in exp\n",
      "  return 1/(1+np.exp(-x))\n"
     ]
    }
   ],
   "source": [
    "# sigmoid function\n",
    "def nonlin(x,deriv=False):\n",
    "    if(deriv==True):\n",
    "        return x*(1-x)\n",
    "    return 1/(1+np.exp(-x))\n",
    "#==========================\n",
    "\n",
    "X = np.array([  [3701,2298,668],\n",
    "                [2631,3451,2443],\n",
    "                [878,655,2582],\n",
    "                [907,1747,2214] ])\n",
    "\n",
    "\n",
    "y = np.array([[1],\n",
    "             [1],\n",
    "             [0],\n",
    "             [0]])\n",
    "# initialize weights randomly with mean 0\n",
    "# syn0: First layer of weights, Synapse 0, connecting l0 to l1.\n",
    "syn0 = 2*np.random.random((X.shape[1],1)) - 1\n",
    "\n",
    "# seed random numbers to make calculation\n",
    "# deterministic (just a good practice)\n",
    "np.random.seed(1)\n",
    "for iter in range(10000):\n",
    "\n",
    "    # forward propagation\n",
    "    # l0: First Layer of the Network, specified by the input data\n",
    "    # l1: Second Layer of the Network, otherwise known as the hidden layer\n",
    "    \n",
    "    l0 = X\n",
    "    l1 = nonlin(np.dot(l0,syn0))\n",
    "    \n",
    "    # how much did we miss?\n",
    "    l1_error = y - l1\n",
    "\n",
    "    # multiply how much we missed by the \n",
    "    # slope of the sigmoid at the values in l1\n",
    "    l1_delta = l1_error * nonlin(l1,True)\n",
    "\n",
    "    # update weights\n",
    "    syn0 += np.dot(l0.T,l1_delta)\n",
    "\n",
    "print (\"Output After Training:\")\n",
    "print (l1)\n"
   ]
  },
  {
   "cell_type": "markdown",
   "metadata": {},
   "source": [
    "# Red neuronal de 3 capas con una capa oculta"
   ]
  },
  {
   "cell_type": "code",
   "execution_count": 41,
   "metadata": {},
   "outputs": [
    {
     "name": "stdout",
     "output_type": "stream",
     "text": [
      "[[-0.16595599  0.44064899 -0.99977125 -0.39533485]\n",
      " [-0.70648822 -0.81532281 -0.62747958 -0.30887855]\n",
      " [-0.20646505  0.07763347 -0.16161097  0.370439  ]]\n",
      "[[-0.5910955 ]\n",
      " [ 0.75623487]\n",
      " [-0.94522481]\n",
      " [ 0.34093502]]\n",
      "Error:0.5624323633315782\n"
     ]
    },
    {
     "name": "stderr",
     "output_type": "stream",
     "text": [
      "C:\\Users\\jssua\\AppData\\Local\\Temp\\ipykernel_11088\\1874086635.py:7: RuntimeWarning: overflow encountered in exp\n",
      "  return 1/(1+np.exp(-x))\n"
     ]
    },
    {
     "name": "stdout",
     "output_type": "stream",
     "text": [
      "Error:0.3762628786361964\n",
      "Error:0.37589027067702874\n",
      "Error:0.3757259302817233\n",
      "Error:0.3756281747329421\n",
      "Error:0.37556155286819437\n",
      "[[-0.16595599  0.44064899 -0.99977125 -0.39533485]\n",
      " [-0.70648822 -0.81532281 -0.62747958 -0.30887855]\n",
      " [-0.20646505  0.07763347 -0.16161097  0.370439  ]]\n",
      "[[-0.5910955 ]\n",
      " [-2.88635884]\n",
      " [-0.94522481]\n",
      " [-3.30165869]]\n"
     ]
    }
   ],
   "source": [
    "import numpy as np\n",
    "\n",
    "def nonlin(x,deriv=False):\n",
    "\tif(deriv==True):\n",
    "\t    return x*(1-x)\n",
    "\n",
    "\treturn 1/(1+np.exp(-x))\n",
    "    \n",
    "X = np.array([  [3701,2298,668],\n",
    "                [2631,3451,2443],\n",
    "                [878,655,2582],\n",
    "                [907,1747,2214] ])\n",
    "\n",
    "\n",
    "y = np.array([[1],\n",
    "             [1],\n",
    "             [0],\n",
    "             [0]])\n",
    "\n",
    "\n",
    "np.random.seed(1)\n",
    "\n",
    "# randomly initialize our weights with mean 0\n",
    "syn0 = 2*np.random.random((3,4)) - 1\n",
    "syn1 = 2*np.random.random((4,1)) - 1\n",
    "\n",
    "print (syn0)\n",
    "print (syn1)\n",
    "\n",
    "for j in range(60000):\n",
    "\n",
    "\t# Feed forward through layers 0, 1, and 2\n",
    "    l0 = X\n",
    "    l1 = nonlin(np.dot(l0,syn0))\n",
    "    l2 = nonlin(np.dot(l1,syn1))\n",
    "\n",
    "    # how much did we miss the target value?\n",
    "    l2_error = y - l2\n",
    "    \n",
    "    if (j% 10000) == 0:\n",
    "        print (\"Error:\" + str(np.mean(np.abs(l2_error))))\n",
    "        \n",
    "    # in what direction is the target value?\n",
    "    # were we really sure? if so, don't change too much.\n",
    "    l2_delta = l2_error*nonlin(l2,deriv=True)\n",
    "\n",
    "    # how much did each l1 value contribute to the l2 error (according to the weights)?\n",
    "    l1_error = l2_delta.dot(syn1.T)\n",
    "    \n",
    "    # in what direction is the target l1?\n",
    "    # were we really sure? if so, don't change too much.\n",
    "    l1_delta = l1_error * nonlin(l1,deriv=True)\n",
    "\n",
    "    syn1 += l1.T.dot(l2_delta)\n",
    "    syn0 += l0.T.dot(l1_delta)\n",
    "\n",
    "print (syn0)\n",
    "print (syn1)"
   ]
  },
  {
   "cell_type": "markdown",
   "metadata": {},
   "source": [
    "# Comparativa\n",
    "\n",
    "Viendo los resultados obtenidos por estos diferentes modelos de redes neuronales, concuerdan con los obtenidos en el punto en el cual se diseño con Scikit, para las redes de perceptrón y ADALINE de una capa se vió que no fueron capaces de hacer la distinción de forma correcta, se ve que todos los datos los agrupo en la misma clase, por otro lado para la red de dos capas, aunque ejecutó no fue capaz de hacer la distinción de las clases. Finalmente con la red de 3 capas, así como en la hecho con Scikit subió bastante la precisión y tuvo un margen de error mucho menor en comparativa con los anteriores modelos. En conclusión, el uso de una red neuronal de 3 capas es el más óptimo para esta aplicación aunque se recomienda hacerlo con la libreria de Scikit debido a que tiene más robustez."
   ]
  }
 ],
 "metadata": {
  "interpreter": {
   "hash": "65dd8c776b61476d4b1f0afe884cc86eb80e994e3d5e7d70343b37e3ecb9f722"
  },
  "kernelspec": {
   "display_name": "Python 3 (ipykernel)",
   "language": "python",
   "name": "python3"
  },
  "language_info": {
   "codemirror_mode": {
    "name": "ipython",
    "version": 3
   },
   "file_extension": ".py",
   "mimetype": "text/x-python",
   "name": "python",
   "nbconvert_exporter": "python",
   "pygments_lexer": "ipython3",
   "version": "3.10.4"
  }
 },
 "nbformat": 4,
 "nbformat_minor": 2
}
