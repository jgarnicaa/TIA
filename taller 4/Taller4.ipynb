{
 "cells": [
  {
   "cell_type": "markdown",
   "id": "9bafd646",
   "metadata": {},
   "source": [
    "<p style=\"font-size:300%; background-color:pink; color:blue; text-align:center;line-height : 80px; margin : 0; padding : 0;\">\n",
    "Taller 4</p>\n",
    "<p style=\"font-size:240%; background-color:pink; color:red; text-align:center;line-height : 60px; margin : 0; padding : 0;\">\n",
    "Técnicas de Inteligencia Artificial - Visión de Máquina</p1>\n",
    "\n",
    "<p style=\"font-size:200%; text-align:center; line-height : 40px;  margin-top : 0; margin-bottom : 0; \"> <br>Jose Eduardo Garnica Aza - Johan Sebastian Suarez Sepulveda</p>\n",
    "<p style=\"font-size:160%; text-align:center; line-height : 20px; margin-top : 0; \"> email: jgarnicaa@unal.edu.co email: jssuarezse@unal.edu.co</p>\n",
    "<p style=\"font-size:180%; text-align:center; line-height : 30px;  margin-top : 0; margin-bottom : 0; \"> <br><br>INGENIERÍA MECATRÓNICA</p>\n",
    "<p style=\"font-size:180%; text-align:center; line-height : 30px; margin-top : 0; \"> Facultad de Ingeniería</p>\n",
    "<p style=\"font-size:160%; text-align:center; line-height : 30px; margin-top : 0; \"> Universidad Nacional de Colombia Sede Bogotá</p>\n",
    "<br>\n",
    "<img src=\"Integrantes.png\",width=10,height=10>\n",
    "<p style=\"font-size:160%; text-align:center; line-height : 30px; margin-top : 0; \"> <br>10 de abril de 2022</p>"
   ]
  },
  {
   "cell_type": "code",
   "execution_count": 1,
   "id": "b39b39b3",
   "metadata": {},
   "outputs": [],
   "source": [
    "%matplotlib inline\n",
    "from PIL import Image\n",
    "import matplotlib.pyplot as plt\n",
    "import matplotlib.gridspec as gridspec\n",
    "import numpy as np \n",
    "import math as m\n",
    "import time\n",
    "import timeit as tm\n",
    "import cv2 as cv\n",
    "import pandas as pd"
   ]
  },
  {
   "cell_type": "code",
   "execution_count": 2,
   "id": "32f09156",
   "metadata": {},
   "outputs": [],
   "source": [
    "image=cv.imread('Tarjeton.jpg')"
   ]
  },
  {
   "cell_type": "markdown",
   "id": "1aa78db8",
   "metadata": {},
   "source": [
    "# Segmentación por similitud: División y mezcla de regiones\n",
    "## División:\n",
    "- Inicio : Toda la imagen se supone homogénea.\n",
    "- Comprobación : Si la suposicion es falsa se realiza una primera division\n",
    "- Repetición : Se repite suposición y chequeo para subimágenes.\n",
    "- Finalizacion: Se repite hasta que cada región es homogénea.\n",
    "\n",
    "## Mezcla:\n",
    "- Problema de la división de regiones: Se crean regiones adyacentes similares.\n",
    "- Solución : Inclusión de un algoritmo de unión o mezcla.\n",
    "- Procedimiento : Mezcla de las regiones generadas por la división.\n",
    "- Resultado : Se obtienen menos regiones.\n",
    "- La mezcla puede hacerse : Antes de cada división, o al final del proceso completo de división de regiones.\n"
   ]
  },
  {
   "cell_type": "markdown",
   "id": "ccb7fc3a",
   "metadata": {},
   "source": [
    "- Se define código para revisar las divisiones que se vayan ejecutando dentro de esta función"
   ]
  },
  {
   "cell_type": "code",
   "execution_count": 3,
   "id": "b7703170",
   "metadata": {},
   "outputs": [],
   "source": [
    "# split \n",
    "#Codigo para division-mezcla\n",
    "\n",
    "def Division_Judge(img, h0, w0, h, w) :\n",
    "    area = img[h0 : h0 + h, w0 : w0 + w]\n",
    "    mean = np.mean(area)\n",
    "    std = np.std(area, ddof = 1)\n",
    "\n",
    "    total_points = 0\n",
    "    operated_points = 0\n",
    "\n",
    "    for row in range(area.shape[0]) :\n",
    "        for col in range(area.shape[1]) :\n",
    "            if (area[row][col] - mean) < 2 * std :\n",
    "                operated_points += 1\n",
    "            total_points += 1\n",
    "\n",
    "    if operated_points / total_points >= 0.95 :\n",
    "        return True\n",
    "    else :\n",
    "        return False\n"
   ]
  },
  {
   "cell_type": "markdown",
   "id": "bff66c42",
   "metadata": {},
   "source": [
    "- Se define el codigo que mezclará las regiones encontradas en una función individual"
   ]
  },
  {
   "cell_type": "code",
   "execution_count": 4,
   "id": "c4586dd1",
   "metadata": {},
   "outputs": [],
   "source": [
    "#Mezcla\n",
    "def Merge(img, h0, w0, h, w) :\n",
    "    # area = img[h0 : h0 + h, w0 : w0 + w]\n",
    "    # _, thresh = cv.threshold(area, 0, 255, cv.THRESH_OTSU + cv.THRESH_BINARY_INV)\n",
    "    # img[h0 : h0 + h, w0 : w0 + w] = thresh\n",
    "    for row in range(h0, h0 + h) :\n",
    "        for col in range(w0, w0 + w) :\n",
    "            if img[row, col] > 100 and img[row, col] < 200:\n",
    "                img[row, col] = 0\n",
    "            else :\n",
    "                img[row, col] = 255\n"
   ]
  },
  {
   "cell_type": "markdown",
   "id": "5e57aea0",
   "metadata": {},
   "source": [
    "- Se toma una función de recursión para ir diviendo consecutivamente la imagen de estudio"
   ]
  },
  {
   "cell_type": "code",
   "execution_count": 5,
   "id": "6a17e21d",
   "metadata": {},
   "outputs": [],
   "source": [
    "#Recursion\n",
    "def Recursion(img, h0, w0, h, w) :\n",
    "    # If the splitting conditions are met, continue to split \n",
    "    if not Division_Judge(img, h0, w0, h, w) and min(h, w) > 5 :\n",
    "        # Recursion continues to determine whether it can continue to split \n",
    "        # Top left square \n",
    "        Division_Judge(img, h0, w0, int(h0 / 2), int(w0 / 2))\n",
    "        # Upper right square \n",
    "        Division_Judge(img, h0, w0 + int(w0 / 2), int(h0 / 2), int(w0 / 2))\n",
    "        # Lower left square \n",
    "        Division_Judge(img, h0 + int(h0 / 2), w0, int(h0 / 2), int(w0 / 2))\n",
    "        # Lower right square \n",
    "        Division_Judge(img, h0 + int(h0 / 2), w0 + int(w0 / 2), int(h0 / 2), int(w0 / 2))\n",
    "    else :\n",
    "        # Merge \n",
    "        Merge(img, h0, w0, h, w)\n"
   ]
  },
  {
   "cell_type": "markdown",
   "id": "c49a5ee1",
   "metadata": {},
   "source": [
    "- Definición para la ejecución de las funciones definidas anteriormente"
   ]
  },
  {
   "cell_type": "code",
   "execution_count": 6,
   "id": "94bb8ea4",
   "metadata": {},
   "outputs": [
    {
     "data": {
      "image/png": "[encoded data removed]",
      "text/plain": [
       "<Figure size 864x288 with 3 Axes>"
      ]
     },
     "metadata": {
      "needs_background": "light"
     },
     "output_type": "display_data"
    }
   ],
   "source": [
    "\n",
    "def Division_Merge_Segmented() :\n",
    "    img = cv.imread('SplitMerge.png') #Se usa una imagen en la que sea fácil verificar todas las zonas\n",
    "    img_gray = cv.cvtColor(img, cv.COLOR_BGR2GRAY)\n",
    "    hist, bins = np.histogram(img_gray, bins = 256)\n",
    "    \n",
    "\n",
    "    segemented_img = img_gray.copy()\n",
    "    Recursion(segemented_img, 0, 0, segemented_img.shape[0], segemented_img.shape[1])\n",
    "\n",
    "    plt.figure(figsize=(12, 4))\n",
    "    plt.subplot(131), plt.imshow(cv.cvtColor(img, cv.COLOR_BGR2RGB))\n",
    "    plt.axis('off'), plt.title(f'$Imagen de entrada$')\n",
    "    plt.subplot(132), plt.imshow(img_gray, cmap='gray', vmin = 0, vmax = 255)\n",
    "    plt.axis('off'), plt.title(f'$Imagen en gris$')\n",
    "    plt.subplot(133), plt.imshow(segemented_img, cmap='gray')\n",
    "    plt.axis('off'), plt.title(f'$Imagen finalmente segmentada$')\n",
    "    plt.tight_layout()\n",
    "    plt.show()\n",
    "\n",
    "if __name__ == '__main__':\n",
    "    Division_Merge_Segmented()\n"
   ]
  },
  {
   "cell_type": "markdown",
   "id": "03d63795",
   "metadata": {},
   "source": [
    "# Contornos\n",
    "\n",
    "- Un contorno se puede definir como una secuencia de puntos.\n",
    "- Todo contorno delimita dos zonas, una acotada (el contorno y su interior) y otra infinita (el fondo), creándose un sub-mundo gráfico particular en cada forma definida por cada contorno.\n",
    "- A continuacion mostraremos algunas implementaciones para encontrar contornos"
   ]
  },
  {
   "cell_type": "code",
   "execution_count": 7,
   "id": "6f6a88f4",
   "metadata": {},
   "outputs": [],
   "source": [
    "## imagen umbralizada\n",
    "imagegray = cv.cvtColor(image, cv.COLOR_RGB2GRAY)\n",
    "ret, thresh = cv.threshold(imagegray,127,255,0)\n",
    "contours, hierarchy = cv.findContours(thresh, cv.RETR_TREE, cv.CHAIN_APPROX_NONE)\n",
    "cv.drawContours(image, contours, -1, (0,255,0), 3)\n",
    "cv.imshow('contornos', image)\n",
    "cv.waitKey(0)\n",
    "cv.destroyAllWindows()"
   ]
  },
  {
   "cell_type": "markdown",
   "id": "ea8a4528",
   "metadata": {},
   "source": [
    "- En la figura anterior, podemos ver los bordes de una imagen perteneciente al proyecto academico debido a que no es muy clara se usará otro ejemplo para mostrarlos más visibles."
   ]
  },
  {
   "cell_type": "code",
   "execution_count": 8,
   "id": "ee234044",
   "metadata": {},
   "outputs": [],
   "source": [
    "image2=cv.imread('cannytarjeton.jpg')\n",
    "imagegray2 = cv.cvtColor(image2, cv.COLOR_RGB2GRAY)\n",
    "ret2, thresh2 = cv.threshold(imagegray2,127,255,0)\n",
    "contours2, hierarchy2 = cv.findContours(thresh2, cv.RETR_TREE, cv.CHAIN_APPROX_NONE)\n",
    "cv.drawContours(image2, contours2, -1, (0,255,0), 3)\n",
    "cv.imshow('contornos', image2)\n",
    "cv.waitKey(0)\n",
    "cv.destroyAllWindows()"
   ]
  },
  {
   "cell_type": "markdown",
   "id": "f8444e40",
   "metadata": {},
   "source": [
    "# Transformada de Hough.\n",
    "- Es un algoritmo que permite encontrar ciertas formas dentro de una imagen, como líneas, círculos, etc.\n",
    "- Su modo de operación es principalmente estadístico y consiste en que para cada punto que se desea averiguar si es parte de una línea se aplica una operación dentro de cierto rango, con lo que se averiguan las posibles líneas de las que puede ser parte el punto.\n",
    "- Esto se continúa para todos los puntos en la imagen, al final se determina qué líneas fueron las que más puntos posibles tuvieron y esas son las líneas en la imagen."
   ]
  },
  {
   "cell_type": "markdown",
   "id": "b5204c47",
   "metadata": {},
   "source": [
    "# Líneas 1"
   ]
  },
  {
   "cell_type": "code",
   "execution_count": 9,
   "id": "48d17cd3",
   "metadata": {},
   "outputs": [],
   "source": [
    "image=cv.imread('Tarjeton.jpg')\n",
    "imagegray = cv.cvtColor(image, cv.COLOR_RGB2GRAY)\n",
    "edges = cv.Canny(imagegray, 50, 150, apertureSize=3)\n",
    "cv.imshow('edges', edges)\n",
    "lines = cv.HoughLines(edges, 1, np.pi / 180, 200)\n",
    "\n",
    "for line in lines:\n",
    "    rho,theta = line[0]\n",
    "    a = np.cos(theta)\n",
    "    b = np.sin(theta)\n",
    "    x0 = a * rho\n",
    "    y0 = b * rho\n",
    "    # x1 stores the rounded off value of (r * cos(theta) - 1000 * sin(theta))\n",
    "    x1 = int(x0 + 1000 * (-b))\n",
    "    # y1 stores the rounded off value of (r * sin(theta)+ 1000 * cos(theta))\n",
    "    y1 = int(y0 + 1000 * (a))\n",
    "    # x2 stores the rounded off value of (r * cos(theta)+ 1000 * sin(theta))\n",
    "    x2 = int(x0 - 1000 * (-b))\n",
    "    # y2 stores the rounded off value of (r * sin(theta)- 1000 * cos(theta))\n",
    "    y2 = int(y0 - 1000 * (a))\n",
    "    cv.line(image, (x1, y1), (x2, y2), (0, 0, 255), 2)\n",
    "\n",
    "\n",
    "cv.imshow('image', image)\n",
    "k = cv.waitKey(0)\n",
    "cv.destroyAllWindows()"
   ]
  },
  {
   "cell_type": "markdown",
   "id": "118a0847",
   "metadata": {},
   "source": [
    "- Las letras del fondo de la imagen, como la curvatura de los cuadros de los números, hacen que este método no sea muy eficiente, vamos a probarlo con otra imagen."
   ]
  },
  {
   "cell_type": "code",
   "execution_count": 10,
   "id": "032601a0",
   "metadata": {},
   "outputs": [],
   "source": [
    "image=cv.imread('sodoku.png')\n",
    "imagegray = cv.cvtColor(image, cv.COLOR_RGB2GRAY)\n",
    "edges = cv.Canny(imagegray, 50, 150, apertureSize=3)\n",
    "cv.imshow('edges', edges)\n",
    "lines = cv.HoughLines(edges, 1, np.pi / 180, 200)\n",
    "\n",
    "for line in lines:\n",
    "    rho,theta = line[0]\n",
    "    a = np.cos(theta)\n",
    "    b = np.sin(theta)\n",
    "    x0 = a * rho\n",
    "    y0 = b * rho\n",
    "    # x1 stores the rounded off value of (r * cos(theta) - 1000 * sin(theta))\n",
    "    x1 = int(x0 + 1000 * (-b))\n",
    "    # y1 stores the rounded off value of (r * sin(theta)+ 1000 * cos(theta))\n",
    "    y1 = int(y0 + 1000 * (a))\n",
    "    # x2 stores the rounded off value of (r * cos(theta)+ 1000 * sin(theta))\n",
    "    x2 = int(x0 - 1000 * (-b))\n",
    "    # y2 stores the rounded off value of (r * sin(theta)- 1000 * cos(theta))\n",
    "    y2 = int(y0 - 1000 * (a))\n",
    "    cv.line(image, (x1, y1), (x2, y2), (0, 0, 255), 2)\n",
    "\n",
    "\n",
    "cv.imshow('image', image)\n",
    "k = cv.waitKey(0)\n",
    "cv.destroyAllWindows()"
   ]
  },
  {
   "cell_type": "markdown",
   "id": "224731ec",
   "metadata": {},
   "source": [
    "- Se pueden observar por completo las lineas del sodoku."
   ]
  },
  {
   "cell_type": "markdown",
   "id": "0f34c287",
   "metadata": {},
   "source": [
    "# Líneas 2"
   ]
  },
  {
   "cell_type": "code",
   "execution_count": 14,
   "id": "392af091",
   "metadata": {},
   "outputs": [],
   "source": [
    "img = cv.imread('tarjeton.jpg')\n",
    "gray = cv.cvtColor(img, cv.COLOR_BGR2GRAY)\n",
    "edges = cv.Canny(gray,50,150,apertureSize = 3)\n",
    "cv.imshow('edges', edges)\n",
    "lines = cv.HoughLinesP(edges,1,np.pi/180,100,minLineLength=100,maxLineGap=10)\n",
    "for line in lines:\n",
    "    x1,y1,x2,y2 = line[0]\n",
    "    cv.line(img,(x1,y1),(x2,y2),(0,255,0),2)\n",
    "\n",
    "cv.imshow('image', img)\n",
    "k = cv.waitKey(0)\n",
    "cv.destroyAllWindows()"
   ]
  },
  {
   "cell_type": "markdown",
   "id": "eaba4b1b",
   "metadata": {},
   "source": [
    "- si bien los contornos mejoran, las letras de fondo distorsionan el resultado de la operacion, aún no se tiene la imagen sin el mensaje, por lo cual utilizaremos de nuevo la imagen del sodoku."
   ]
  },
  {
   "cell_type": "code",
   "execution_count": 12,
   "id": "b52270a5",
   "metadata": {},
   "outputs": [],
   "source": [
    "img = cv.imread('sodoku.png')\n",
    "gray = cv.cvtColor(img, cv.COLOR_BGR2GRAY)\n",
    "edges = cv.Canny(gray,50,150,apertureSize = 3)\n",
    "cv.imshow('edges', edges)\n",
    "lines = cv.HoughLinesP(edges,1,np.pi/180,100,minLineLength=100,maxLineGap=10)\n",
    "for line in lines:\n",
    "    x1,y1,x2,y2 = line[0]\n",
    "    cv.line(img,(x1,y1),(x2,y2),(0,255,0),2)\n",
    "\n",
    "cv.imshow('image', img)\n",
    "k = cv.waitKey(0)\n",
    "cv.destroyAllWindows()"
   ]
  },
  {
   "cell_type": "markdown",
   "id": "9eb96e34",
   "metadata": {},
   "source": [
    "- Al ser un método probabilístico, algunas líneas no se alcanzan a ver con detalle."
   ]
  },
  {
   "cell_type": "markdown",
   "id": "c58a2c80",
   "metadata": {},
   "source": [
    "# Circulos\n",
    "\n",
    "- Cómo el tarjeton no tiene muchos circulos, se usará un ejemplo más acertado"
   ]
  },
  {
   "cell_type": "code",
   "execution_count": null,
   "id": "607ee402",
   "metadata": {},
   "outputs": [],
   "source": [
    "olimpicos= cv.imread('olimpicos.jpg')\n",
    "gray_img=cv.cvtColor(olimpicos,cv.COLOR_BGR2GRAY)\n",
    "img= cv.medianBlur(gray_img,5)\n",
    "cimg = cv.cvtColor(img,cv.COLOR_GRAY2BGR)\n",
    " \n",
    "#center\n",
    " \n",
    "circles= cv.HoughCircles(img,cv.HOUGH_GRADIENT,1,120,param1=100,param2=30,minRadius=0,maxRadius=0)\n",
    "circles= np.uint16(np.around(circles))\n",
    " \n",
    "for i in circles[0,:]:\n",
    " #drawtheoutercircle\n",
    " cv.circle(olimpicos,(i[0],i[1]),i[2],(0,255,0),6)\n",
    " # draw the center of the circle\n",
    " cv.circle(olimpicos,(i[0],i[1]),2,(0,0,255),3)\n",
    " \n",
    "cv.imshow(\"HoughCirlces\",olimpicos)\n",
    "cv.waitKey()\n",
    "cv.destroyAllWindows()"
   ]
  },
  {
   "cell_type": "markdown",
   "id": "54d18ad7",
   "metadata": {},
   "source": [
    "# Crecimiento de regiones\n",
    "\n",
    "- Para mostrar el funcionamiento de esta funcion, utilizaremos la imagen de los juegos olimpicos la cual se podra rellenar al dar click.\n",
    "- Para salir presione la tecla escape."
   ]
  },
  {
   "cell_type": "code",
   "execution_count": null,
   "id": "4a11082d",
   "metadata": {},
   "outputs": [],
   "source": [
    "def mouse_clic(event, x, y, flags, param):\n",
    "    if event == cv.EVENT_LBUTTONUP:\n",
    "        src = param.copy()\n",
    "\n",
    "        cv.floodFill(src, None, (x, y), (0, 255, 255))\n",
    "        cv.imshow('Fill zone', src)\n",
    "\n",
    "def main():\n",
    "    winname = 'Flood fill'\n",
    "    img = cv.imread('olimpicos.jpg')\n",
    "\n",
    "    cv.namedWindow(winname)\n",
    "    cv.setMouseCallback(winname, mouse_clic, img)\n",
    "\n",
    "    while(1):\n",
    "        cv.imshow(winname, img)\n",
    "        if cv.waitKey(20) & 0xFF == 27:\n",
    "            break\n",
    "\n",
    "    cv.destroyAllWindows()\n",
    "    \n",
    "if __name__ == '__main__':\n",
    "    main()"
   ]
  },
  {
   "cell_type": "markdown",
   "id": "405adece",
   "metadata": {},
   "source": [
    "# Wastershed\n",
    "- Esta operación considera la magnitud del gradiente de una imagen como una superficie topográfica.\n",
    "- Los píxeles que tienen las más altas intensidades de gradiente corresponden a las líneas divisorias, que representan los límites de las regiones.\n",
    "- Los píxeles que drenan a un mínimo común forman una cuenca, que representa un segmento de la imagen (un objeto).\n",
    "- Para ver su implementacion nos guiaremos del ejemplo proporcionado por la documentación de la libreria de opencv."
   ]
  },
  {
   "cell_type": "code",
   "execution_count": null,
   "id": "8484b3e0",
   "metadata": {},
   "outputs": [],
   "source": [
    "img = cv.imread('coins.jpg')\n",
    "cv.imshow(\"soriginal \",img)\n",
    "gray = cv.cvtColor(img,cv.COLOR_BGR2GRAY)\n",
    "ret, thresh = cv.threshold(gray,0,255,cv.THRESH_BINARY_INV+cv.THRESH_OTSU)\n",
    "# noise removal\n",
    "kernel = np.ones((3,3),np.uint8)\n",
    "opening = cv.morphologyEx(thresh,cv.MORPH_OPEN,kernel, iterations = 2)\n",
    "# sure background area\n",
    "sure_bg = cv.dilate(opening,kernel,iterations=3)\n",
    "# Finding sure foreground area\n",
    "dist_transform = cv.distanceTransform(opening,cv.DIST_L2,5)\n",
    "ret, sure_fg = cv.threshold(dist_transform,0.7*dist_transform.max(),255,0)\n",
    "# Finding unknown region\n",
    "sure_fg = np.uint8(sure_fg)\n",
    "unknown = cv.subtract(sure_bg,sure_fg)\n",
    "# Marker labelling\n",
    "ret, markers = cv.connectedComponents(sure_fg)\n",
    "# Add one to all labels so that sure background is not 0, but 1\n",
    "markers = markers+1\n",
    "# Now, mark the region of unknown with zero\n",
    "markers[unknown==255] = 0\n",
    "markers = cv.watershed(img,markers)\n",
    "img[markers == -1] = [255,0,0]\n",
    "\n",
    "cv.imshow(\"umbralizada\",thresh)\n",
    "cv.imshow(\"regiones segmentadas\",sure_fg)\n",
    "cv.imshow(\"salida \",img)\n",
    "\n",
    "\n",
    "cv.waitKey()\n",
    "cv.destroyAllWindows()"
   ]
  },
  {
   "cell_type": "markdown",
   "id": "d6200e79",
   "metadata": {},
   "source": [
    "<p style=\"font-size:300%; background-color:pink; color:blue; text-align:center;line-height : 80px; margin : 0; padding : 0;\">\n",
    "Análisis y conclusiones </p>\n",
    "<p style=\"font-size:240%; background-color:pink; color:red; text-align:center;line-height : 60px; margin : 0; padding : 0;\">\n",
    "Taller 4</p1>\n",
    "\n",
    "\n",
    "* Se nota que cada método tiene un objetivo común pero en el cual el enfoque es diferente, lo cual puede ayudar bastante para encontrar el mejor método dependiendo de la aplicación que se requiere, por ejemplo en el proyecto propuesto del tarjeton de elecciones no fue optima la transformada de hough debido a que no se generaban correctamente las líneas que se buscaban cómo pasaba al momento de usar un sudoku o un crucigrama por ejemplo.\n",
    "* Cómo el objetivo principal de todos los métodos es encontrar las figuras que se deseen es recomendable su uso para hacer diferentes distinciones entre formas dentro de una imagen, por ejemplo, de una imagen la cual se quieran sustraer solamente circulos se puede usar la transformada de Hough enfocada a circulos, así mismo, para hallar figuras que sean distintas al fondo y diferenciarlas se puede usar el método de Split-Merge o también la operación Wastershed que permite encontrar las diferentes figuras dentro de una misma imagen, por ello es importante definir correctamente el objetivo de uso.\n",
    "* En cuanto al consumo de recursos, se recomienda usar las operaciones que estén incluidas directamente en la libreria de opencv debido a que estas están correctamente optimizadas, por ejemplo para hallar los contornos mediante cv.findContours por otro lado el uso de los otros métodos generará mayor estrés en la cpu por tanto es un factor obligatorio a tener en cuenta dependiendo nuevamente de la aplicación deseada.\n"
   ]
  }
 ],
 "metadata": {
  "interpreter": {
   "hash": "65dd8c776b61476d4b1f0afe884cc86eb80e994e3d5e7d70343b37e3ecb9f722"
  },
  "kernelspec": {
   "display_name": "Python 3.10.4 64-bit (windows store)",
   "language": "python",
   "name": "python3"
  },
  "language_info": {
   "codemirror_mode": {
    "name": "ipython",
    "version": 3
   },
   "file_extension": ".py",
   "mimetype": "text/x-python",
   "name": "python",
   "nbconvert_exporter": "python",
   "pygments_lexer": "ipython3",
   "version": "3.10.5"
  }
 },
 "nbformat": 4,
 "nbformat_minor": 5
}
